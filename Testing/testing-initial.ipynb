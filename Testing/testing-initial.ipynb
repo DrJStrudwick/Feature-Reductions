{
 "cells": [
  {
   "cell_type": "markdown",
   "id": "d074db54-02a3-4d8e-80db-1fd9bc98bd20",
   "metadata": {
    "tags": []
   },
   "source": [
    "# Model creation and initial testing"
   ]
  },
  {
   "cell_type": "markdown",
   "id": "00b1ddb2-c095-44cd-90ad-48d80630b1b7",
   "metadata": {},
   "source": [
    "Here is where we shall create three different models, evaluate them and create an initial assessment. For a fuller evaluation this will have to be replicated many times over to get summary statistics but this will create the initial framework for that later work and provide an esarly indicator.\n",
    "\n",
    "To remind, the three models we shall create are:\n",
    " - Natural model - this will have no PCA applied and all features will be given to the model to learn from\n",
    " - PCA model - this will have ALL features, regardless of any correlations, reduced together with PCA down to a lower dimensional space and then used to create a model\n",
    " - Hybrid model - this shall implement the method that we are testing to create the model."
   ]
  },
  {
   "cell_type": "markdown",
   "id": "2a746b92-6a31-434d-890e-f0d4d3af64b3",
   "metadata": {},
   "source": [
    "## Load packages & data"
   ]
  },
  {
   "cell_type": "code",
   "execution_count": 1,
   "id": "78101ea9-dcd4-4a08-b336-71a8281af154",
   "metadata": {},
   "outputs": [],
   "source": [
    "#Import the various libraries and functions that we will require\n",
    "import pandas as pd\n",
    "import numpy as np\n",
    "import pickle\n",
    "\n",
    "from sklearn.model_selection import train_test_split\n",
    "from sklearn.linear_model import LinearRegression\n",
    "from sklearn.decomposition import PCA\n",
    "from sklearn.metrics import mean_absolute_error\n",
    "from sklearn.metrics import mean_squared_error\n",
    "from sklearn.metrics import mean_absolute_percentage_error\n",
    "\n",
    "import networkx as nx"
   ]
  },
  {
   "cell_type": "code",
   "execution_count": 2,
   "id": "fe2ffd9a-d361-41da-b277-773807c585b1",
   "metadata": {},
   "outputs": [],
   "source": [
    "#defin custome colouring function. Will be used later, in hybrid model creation. \n",
    "def color_thresh(val,thres=0.5):\n",
    "    if abs(val)>=thres:\n",
    "        if val<0:\n",
    "            return 'background-color: red'\n",
    "        else:\n",
    "            return 'background-color: green'\n",
    "    else:\n",
    "        return ''"
   ]
  },
  {
   "cell_type": "code",
   "execution_count": 3,
   "id": "c9bd78de-e95a-4490-9596-9c4543c1505c",
   "metadata": {},
   "outputs": [],
   "source": [
    "#Import the data\n",
    "data_df = pd.read_csv(\"../Synth-Data-Creation/synth1.csv\")\n",
    "data_df.drop(columns=['Unnamed: 0'],inplace=True)"
   ]
  },
  {
   "cell_type": "code",
   "execution_count": 4,
   "id": "95a22511-1ace-4d8e-b8d4-63abd9c2a807",
   "metadata": {},
   "outputs": [],
   "source": [
    "#import any of the parameters that we require\n",
    "with open(\"../Synth-Data-Creation/params.pkl\", \"rb\") as input_file:\n",
    "    params = pickle.load(input_file)"
   ]
  },
  {
   "cell_type": "code",
   "execution_count": 5,
   "id": "7092e68b-2a1d-4037-9fb6-14af759815ab",
   "metadata": {},
   "outputs": [],
   "source": [
    "#split loaded data into data and target variables\n",
    "X = data_df.iloc[:,:-1]\n",
    "y = data_df.iloc[:,-1]"
   ]
  },
  {
   "cell_type": "code",
   "execution_count": 6,
   "id": "8c0b225c-c0a6-4cb6-9fca-a32f0091debe",
   "metadata": {},
   "outputs": [],
   "source": [
    "#split data into training & test sets according to the split defined in the parameters \n",
    "X_train, X_test, y_train, y_test = train_test_split(X, y, test_size=params['split'], random_state=1234)"
   ]
  },
  {
   "cell_type": "markdown",
   "id": "74058cc8-0fd2-480d-9400-42de882ca2cc",
   "metadata": {},
   "source": [
    "<br></br>"
   ]
  },
  {
   "cell_type": "markdown",
   "id": "4260d0f8-c8cf-4cc1-9a45-b64025740259",
   "metadata": {
    "tags": []
   },
   "source": [
    "## Natural model"
   ]
  },
  {
   "cell_type": "markdown",
   "id": "8ad57e86-8cd8-468e-a9fd-8230b760c899",
   "metadata": {},
   "source": [
    "First we shall create the Natural model, that is the model with out any PCA being applied and using all of the features to pre-process the models. This shall form the base line to which we can compaire the other models."
   ]
  },
  {
   "cell_type": "code",
   "execution_count": 7,
   "id": "e3591083-6337-438e-ad71-63dde545296c",
   "metadata": {},
   "outputs": [
    {
     "data": {
      "text/plain": [
       "LinearRegression()"
      ]
     },
     "execution_count": 7,
     "metadata": {},
     "output_type": "execute_result"
    }
   ],
   "source": [
    "#Init and fit the model to the training data\n",
    "nat_LR = LinearRegression()\n",
    "nat_LR.fit(X_train,y_train)"
   ]
  },
  {
   "cell_type": "markdown",
   "id": "d1b6c73e-f877-4483-bccb-47a52b388426",
   "metadata": {},
   "source": [
    "Out of curiosity we print the coefficents and the intercept that the model believes it has found just to see if its close/near to those that we used to contruct the target variable"
   ]
  },
  {
   "cell_type": "code",
   "execution_count": 8,
   "id": "cc6552ef-c3ff-4db8-961f-de5e9bca8eec",
   "metadata": {},
   "outputs": [
    {
     "data": {
      "text/plain": [
       "array([ 0.68446515, 10.05304922,  5.34439598,  1.98726492,  4.25922843,\n",
       "        0.0159577 ,  7.34271791,  5.78745202,  8.63615881,  5.95524685])"
      ]
     },
     "execution_count": 8,
     "metadata": {},
     "output_type": "execute_result"
    }
   ],
   "source": [
    "nat_LR.coef_ #model coefficents"
   ]
  },
  {
   "cell_type": "code",
   "execution_count": 9,
   "id": "640535d5-430e-486e-afad-449b7c503bc3",
   "metadata": {},
   "outputs": [
    {
     "data": {
      "text/plain": [
       "array([0.8548219 , 9.45614306, 4.93156789, 2.74044746, 4.57208473,\n",
       "       0.24207174, 7.16864783, 5.66669495, 8.47362646, 6.49470771])"
      ]
     },
     "execution_count": 9,
     "metadata": {},
     "output_type": "execute_result"
    }
   ],
   "source": [
    "params['coeffs'][:-1] #creation coefficents"
   ]
  },
  {
   "cell_type": "code",
   "execution_count": 10,
   "id": "dbe9e0aa-ef1e-4705-9e8c-0d52ef8779b3",
   "metadata": {},
   "outputs": [
    {
     "data": {
      "text/plain": [
       "4.051501515613731"
      ]
     },
     "execution_count": 10,
     "metadata": {},
     "output_type": "execute_result"
    }
   ],
   "source": [
    "nat_LR.intercept_ #model intercept"
   ]
  },
  {
   "cell_type": "code",
   "execution_count": 11,
   "id": "2ccf7507-59f4-4130-ac8b-692e79493d51",
   "metadata": {},
   "outputs": [
    {
     "data": {
      "text/plain": [
       "4.226843490666489"
      ]
     },
     "execution_count": 11,
     "metadata": {},
     "output_type": "execute_result"
    }
   ],
   "source": [
    "params['coeffs'][-1] #creation intercept"
   ]
  },
  {
   "cell_type": "markdown",
   "id": "6ca9ef27-e1a8-4228-99fe-5e323e7c711d",
   "metadata": {},
   "source": [
    "On the whole we see that the two sets are relativly close, which is re-assuring."
   ]
  },
  {
   "cell_type": "markdown",
   "id": "d431817c-d3dc-410e-939c-2f5c0c50c91c",
   "metadata": {},
   "source": [
    "Now we proceed to evaluate the model using the metrics we have loaded in across the three subsets of data we have (Train, Test & all) to give a full picture. The 4 metrics we shall be evaluating according to are:\n",
    " - $R^2$\n",
    " - Mean Absolute Error (MAE)\n",
    " - Mean Squared Error (MSE)\n",
    " - Mean Absolute Percentage Error (MAPE)"
   ]
  },
  {
   "cell_type": "code",
   "execution_count": 12,
   "id": "9d7970cf-88fa-4d6e-b6cb-70742ad20520",
   "metadata": {},
   "outputs": [],
   "source": [
    "d_set = ['Train','Test','all']\n",
    "res = []\n",
    "\n",
    "#For each of our sets\n",
    "for s in d_set: \n",
    "    #set out evaluation variables\n",
    "    if s=='Train':\n",
    "        x_set = X_train\n",
    "        y_set = y_train\n",
    "    elif s=='Test':\n",
    "        x_set = X_test\n",
    "        y_set = y_test\n",
    "    elif s=='all':\n",
    "        x_set = X\n",
    "        y_set = y\n",
    "    #evaluate our set and append the results to our results list\n",
    "    res.append([\n",
    "        s,\n",
    "        nat_LR.score(x_set,y_set),\n",
    "        mean_absolute_error(y_set,nat_LR.predict(x_set)),\n",
    "        mean_squared_error(y_set,nat_LR.predict(x_set)),\n",
    "        mean_absolute_percentage_error(y_set,nat_LR.predict(x_set))\n",
    "    ])"
   ]
  },
  {
   "cell_type": "code",
   "execution_count": 13,
   "id": "c2f70a54-a93d-4f6c-8ab6-6b5ece14369e",
   "metadata": {},
   "outputs": [
    {
     "data": {
      "text/html": [
       "<div>\n",
       "<style scoped>\n",
       "    .dataframe tbody tr th:only-of-type {\n",
       "        vertical-align: middle;\n",
       "    }\n",
       "\n",
       "    .dataframe tbody tr th {\n",
       "        vertical-align: top;\n",
       "    }\n",
       "\n",
       "    .dataframe thead th {\n",
       "        text-align: right;\n",
       "    }\n",
       "</style>\n",
       "<table border=\"1\" class=\"dataframe\">\n",
       "  <thead>\n",
       "    <tr style=\"text-align: right;\">\n",
       "      <th></th>\n",
       "      <th>R^2</th>\n",
       "      <th>MAE</th>\n",
       "      <th>MSE</th>\n",
       "      <th>MAPE</th>\n",
       "    </tr>\n",
       "    <tr>\n",
       "      <th>subset</th>\n",
       "      <th></th>\n",
       "      <th></th>\n",
       "      <th></th>\n",
       "      <th></th>\n",
       "    </tr>\n",
       "  </thead>\n",
       "  <tbody>\n",
       "    <tr>\n",
       "      <th>Train</th>\n",
       "      <td>0.938015</td>\n",
       "      <td>4.101535</td>\n",
       "      <td>25.833789</td>\n",
       "      <td>0.725365</td>\n",
       "    </tr>\n",
       "    <tr>\n",
       "      <th>Test</th>\n",
       "      <td>0.944579</td>\n",
       "      <td>3.743841</td>\n",
       "      <td>22.559766</td>\n",
       "      <td>0.560040</td>\n",
       "    </tr>\n",
       "    <tr>\n",
       "      <th>all</th>\n",
       "      <td>0.939812</td>\n",
       "      <td>4.012111</td>\n",
       "      <td>25.015283</td>\n",
       "      <td>0.684034</td>\n",
       "    </tr>\n",
       "  </tbody>\n",
       "</table>\n",
       "</div>"
      ],
      "text/plain": [
       "             R^2       MAE        MSE      MAPE\n",
       "subset                                         \n",
       "Train   0.938015  4.101535  25.833789  0.725365\n",
       "Test    0.944579  3.743841  22.559766  0.560040\n",
       "all     0.939812  4.012111  25.015283  0.684034"
      ]
     },
     "execution_count": 13,
     "metadata": {},
     "output_type": "execute_result"
    }
   ],
   "source": [
    "#Transform into dataframe for ease of viewing\n",
    "nat_res_df = pd.DataFrame(res,columns=['subset','R^2','MAE','MSE','MAPE']).set_index('subset')\n",
    "nat_res_df"
   ]
  },
  {
   "cell_type": "markdown",
   "id": "a0dad45a-97ca-4fd0-b350-d0edc582374c",
   "metadata": {},
   "source": [
    "This concludes the process for the natrual model. The other models that we shall create will follow the same proceedure "
   ]
  },
  {
   "cell_type": "markdown",
   "id": "ed17d0a0-987e-4e98-b136-ec5767b7db46",
   "metadata": {},
   "source": [
    "<br></br>"
   ]
  },
  {
   "cell_type": "markdown",
   "id": "a8bb35a8-f4c3-487c-9b94-55f5c001964c",
   "metadata": {
    "tags": []
   },
   "source": [
    "## PCA model"
   ]
  },
  {
   "cell_type": "code",
   "execution_count": 14,
   "id": "351ecc7d-9e79-492b-9cba-a91c4dea48f8",
   "metadata": {},
   "outputs": [
    {
     "data": {
      "text/plain": [
       "PCA(n_components=5)"
      ]
     },
     "execution_count": 14,
     "metadata": {},
     "output_type": "execute_result"
    }
   ],
   "source": [
    "#Init PCA transformer and fit to TRAINING data\n",
    "pca = PCA(n_components=5)\n",
    "pca.fit(X_train)"
   ]
  },
  {
   "cell_type": "code",
   "execution_count": 15,
   "id": "9e52e83c-3de9-4de7-ae58-c08e68756a42",
   "metadata": {},
   "outputs": [],
   "source": [
    "#Transform training data\n",
    "X_train_trans = pca.transform(X_train)"
   ]
  },
  {
   "cell_type": "code",
   "execution_count": 16,
   "id": "de39687d-92e0-47c0-85a0-47b2626a5fb8",
   "metadata": {},
   "outputs": [
    {
     "data": {
      "text/plain": [
       "LinearRegression()"
      ]
     },
     "execution_count": 16,
     "metadata": {},
     "output_type": "execute_result"
    }
   ],
   "source": [
    "#Init model and fit to transformed training data\n",
    "pca_LR = LinearRegression()\n",
    "pca_LR.fit(X_train_trans,y_train)"
   ]
  },
  {
   "cell_type": "markdown",
   "id": "ff83347d-7827-47e6-85b5-9c0461e507c0",
   "metadata": {},
   "source": [
    "In the Natural model we printed the coefficents to see how closely they matched the coefficents that we used to create the target data but here there is no point as there are less features in the model due to the PCA transformation.\n",
    "\n",
    "We now proceed to evaluating this model"
   ]
  },
  {
   "cell_type": "code",
   "execution_count": 17,
   "id": "176450fe-f0bd-4014-a7f8-af16c8dd0731",
   "metadata": {},
   "outputs": [],
   "source": [
    "d_set = ['Train','Test','all']\n",
    "res = []\n",
    "\n",
    "#For each of our sets\n",
    "for s in d_set:\n",
    "    #set out evaluation variables\n",
    "    if s=='Train':\n",
    "        x_set = X_train_trans\n",
    "        y_set = y_train\n",
    "    elif s=='Test':\n",
    "        x_set = pca.transform(X_test)\n",
    "        y_set = y_test\n",
    "    elif s=='all':\n",
    "        x_set = pca.transform(X)\n",
    "        y_set = y\n",
    "    #evaluate our set and append the results to our results list\n",
    "    res.append([\n",
    "        s,\n",
    "        pca_LR.score(x_set,y_set),\n",
    "        mean_absolute_error(y_set,pca_LR.predict(x_set)),\n",
    "        mean_squared_error(y_set,pca_LR.predict(x_set)),\n",
    "        mean_absolute_percentage_error(y_set,pca_LR.predict(x_set))\n",
    "    ])"
   ]
  },
  {
   "cell_type": "code",
   "execution_count": 18,
   "id": "4a3f5d47-e220-4c8e-ad6c-63be74dfb5cf",
   "metadata": {},
   "outputs": [
    {
     "data": {
      "text/html": [
       "<div>\n",
       "<style scoped>\n",
       "    .dataframe tbody tr th:only-of-type {\n",
       "        vertical-align: middle;\n",
       "    }\n",
       "\n",
       "    .dataframe tbody tr th {\n",
       "        vertical-align: top;\n",
       "    }\n",
       "\n",
       "    .dataframe thead th {\n",
       "        text-align: right;\n",
       "    }\n",
       "</style>\n",
       "<table border=\"1\" class=\"dataframe\">\n",
       "  <thead>\n",
       "    <tr style=\"text-align: right;\">\n",
       "      <th></th>\n",
       "      <th>R^2</th>\n",
       "      <th>MAE</th>\n",
       "      <th>MSE</th>\n",
       "      <th>MAPE</th>\n",
       "    </tr>\n",
       "    <tr>\n",
       "      <th>subset</th>\n",
       "      <th></th>\n",
       "      <th></th>\n",
       "      <th></th>\n",
       "      <th></th>\n",
       "    </tr>\n",
       "  </thead>\n",
       "  <tbody>\n",
       "    <tr>\n",
       "      <th>Train</th>\n",
       "      <td>0.556617</td>\n",
       "      <td>10.580950</td>\n",
       "      <td>184.790792</td>\n",
       "      <td>2.062910</td>\n",
       "    </tr>\n",
       "    <tr>\n",
       "      <th>Test</th>\n",
       "      <td>0.548052</td>\n",
       "      <td>11.102770</td>\n",
       "      <td>183.971046</td>\n",
       "      <td>1.320428</td>\n",
       "    </tr>\n",
       "    <tr>\n",
       "      <th>all</th>\n",
       "      <td>0.555877</td>\n",
       "      <td>10.711405</td>\n",
       "      <td>184.585855</td>\n",
       "      <td>1.877290</td>\n",
       "    </tr>\n",
       "  </tbody>\n",
       "</table>\n",
       "</div>"
      ],
      "text/plain": [
       "             R^2        MAE         MSE      MAPE\n",
       "subset                                           \n",
       "Train   0.556617  10.580950  184.790792  2.062910\n",
       "Test    0.548052  11.102770  183.971046  1.320428\n",
       "all     0.555877  10.711405  184.585855  1.877290"
      ]
     },
     "execution_count": 18,
     "metadata": {},
     "output_type": "execute_result"
    }
   ],
   "source": [
    "#Transform into dataframe for ease of viewing\n",
    "pca_res_df = pd.DataFrame(res,columns=['subset','R^2','MAE','MSE','MAPE']).set_index('subset')\n",
    "pca_res_df"
   ]
  },
  {
   "cell_type": "markdown",
   "id": "dad284ae-f427-4fbf-a304-278b8100d03d",
   "metadata": {},
   "source": [
    "We shall save our comments on the results untill all the models have been created and evaluated"
   ]
  },
  {
   "cell_type": "markdown",
   "id": "85fbf463-3bc1-4359-bb1b-a7bc43505650",
   "metadata": {},
   "source": [
    "<br></br>"
   ]
  },
  {
   "cell_type": "markdown",
   "id": "37fd7a49-4f76-4485-9251-bcb52ccf7481",
   "metadata": {
    "tags": []
   },
   "source": [
    "## Hybrid-Model"
   ]
  },
  {
   "cell_type": "markdown",
   "id": "5dc90252-8f84-4e74-9723-be930aee8c47",
   "metadata": {},
   "source": [
    "Now we arrive at the heart of what we have set out to do. Creating and evaluating our hybrid model. for the moent we shall just create it in squential order but later we shall create a custom class/function for ease of implementation/developement.\n",
    "\n",
    "First let us observe the data and the correlations it contains. we shall apply the colour function `color_thresh` to highlight the entries whose absolute value is above $0.75$. Red if it is negative, green if it is positive. The value $0.75$ is what will be used as our threshold, a parameter that can be varied"
   ]
  },
  {
   "cell_type": "code",
   "execution_count": 19,
   "id": "0749ac8f-4115-431a-a3e8-fcdc838be148",
   "metadata": {},
   "outputs": [
    {
     "data": {
      "text/html": [
       "<style type=\"text/css\">\n",
       "#T_0b1a0_row0_col0, #T_0b1a0_row0_col1, #T_0b1a0_row1_col0, #T_0b1a0_row1_col1, #T_0b1a0_row2_col2, #T_0b1a0_row2_col3, #T_0b1a0_row3_col2, #T_0b1a0_row3_col3, #T_0b1a0_row4_col4, #T_0b1a0_row5_col5, #T_0b1a0_row6_col6, #T_0b1a0_row7_col7, #T_0b1a0_row8_col8, #T_0b1a0_row9_col9 {\n",
       "  background-color: green;\n",
       "}\n",
       "#T_0b1a0_row3_col4, #T_0b1a0_row4_col3 {\n",
       "  background-color: red;\n",
       "}\n",
       "</style>\n",
       "<table id=\"T_0b1a0_\">\n",
       "  <thead>\n",
       "    <tr>\n",
       "      <th class=\"blank level0\" >&nbsp;</th>\n",
       "      <th class=\"col_heading level0 col0\" >f1</th>\n",
       "      <th class=\"col_heading level0 col1\" >f2</th>\n",
       "      <th class=\"col_heading level0 col2\" >f3</th>\n",
       "      <th class=\"col_heading level0 col3\" >f4</th>\n",
       "      <th class=\"col_heading level0 col4\" >f5</th>\n",
       "      <th class=\"col_heading level0 col5\" >f6</th>\n",
       "      <th class=\"col_heading level0 col6\" >f7</th>\n",
       "      <th class=\"col_heading level0 col7\" >f8</th>\n",
       "      <th class=\"col_heading level0 col8\" >f9</th>\n",
       "      <th class=\"col_heading level0 col9\" >f10</th>\n",
       "    </tr>\n",
       "  </thead>\n",
       "  <tbody>\n",
       "    <tr>\n",
       "      <th id=\"T_0b1a0_level0_row0\" class=\"row_heading level0 row0\" >f1</th>\n",
       "      <td id=\"T_0b1a0_row0_col0\" class=\"data row0 col0\" >1.000000</td>\n",
       "      <td id=\"T_0b1a0_row0_col1\" class=\"data row0 col1\" >0.858975</td>\n",
       "      <td id=\"T_0b1a0_row0_col2\" class=\"data row0 col2\" >0.014112</td>\n",
       "      <td id=\"T_0b1a0_row0_col3\" class=\"data row0 col3\" >-0.043008</td>\n",
       "      <td id=\"T_0b1a0_row0_col4\" class=\"data row0 col4\" >0.064905</td>\n",
       "      <td id=\"T_0b1a0_row0_col5\" class=\"data row0 col5\" >0.008296</td>\n",
       "      <td id=\"T_0b1a0_row0_col6\" class=\"data row0 col6\" >-0.141791</td>\n",
       "      <td id=\"T_0b1a0_row0_col7\" class=\"data row0 col7\" >-0.020367</td>\n",
       "      <td id=\"T_0b1a0_row0_col8\" class=\"data row0 col8\" >-0.018657</td>\n",
       "      <td id=\"T_0b1a0_row0_col9\" class=\"data row0 col9\" >0.078954</td>\n",
       "    </tr>\n",
       "    <tr>\n",
       "      <th id=\"T_0b1a0_level0_row1\" class=\"row_heading level0 row1\" >f2</th>\n",
       "      <td id=\"T_0b1a0_row1_col0\" class=\"data row1 col0\" >0.858975</td>\n",
       "      <td id=\"T_0b1a0_row1_col1\" class=\"data row1 col1\" >1.000000</td>\n",
       "      <td id=\"T_0b1a0_row1_col2\" class=\"data row1 col2\" >0.022452</td>\n",
       "      <td id=\"T_0b1a0_row1_col3\" class=\"data row1 col3\" >-0.022236</td>\n",
       "      <td id=\"T_0b1a0_row1_col4\" class=\"data row1 col4\" >0.043580</td>\n",
       "      <td id=\"T_0b1a0_row1_col5\" class=\"data row1 col5\" >0.026203</td>\n",
       "      <td id=\"T_0b1a0_row1_col6\" class=\"data row1 col6\" >-0.090980</td>\n",
       "      <td id=\"T_0b1a0_row1_col7\" class=\"data row1 col7\" >-0.006930</td>\n",
       "      <td id=\"T_0b1a0_row1_col8\" class=\"data row1 col8\" >-0.015338</td>\n",
       "      <td id=\"T_0b1a0_row1_col9\" class=\"data row1 col9\" >0.047891</td>\n",
       "    </tr>\n",
       "    <tr>\n",
       "      <th id=\"T_0b1a0_level0_row2\" class=\"row_heading level0 row2\" >f3</th>\n",
       "      <td id=\"T_0b1a0_row2_col0\" class=\"data row2 col0\" >0.014112</td>\n",
       "      <td id=\"T_0b1a0_row2_col1\" class=\"data row2 col1\" >0.022452</td>\n",
       "      <td id=\"T_0b1a0_row2_col2\" class=\"data row2 col2\" >1.000000</td>\n",
       "      <td id=\"T_0b1a0_row2_col3\" class=\"data row2 col3\" >0.816866</td>\n",
       "      <td id=\"T_0b1a0_row2_col4\" class=\"data row2 col4\" >-0.390944</td>\n",
       "      <td id=\"T_0b1a0_row2_col5\" class=\"data row2 col5\" >-0.043149</td>\n",
       "      <td id=\"T_0b1a0_row2_col6\" class=\"data row2 col6\" >-0.030340</td>\n",
       "      <td id=\"T_0b1a0_row2_col7\" class=\"data row2 col7\" >-0.005084</td>\n",
       "      <td id=\"T_0b1a0_row2_col8\" class=\"data row2 col8\" >0.025913</td>\n",
       "      <td id=\"T_0b1a0_row2_col9\" class=\"data row2 col9\" >0.044718</td>\n",
       "    </tr>\n",
       "    <tr>\n",
       "      <th id=\"T_0b1a0_level0_row3\" class=\"row_heading level0 row3\" >f4</th>\n",
       "      <td id=\"T_0b1a0_row3_col0\" class=\"data row3 col0\" >-0.043008</td>\n",
       "      <td id=\"T_0b1a0_row3_col1\" class=\"data row3 col1\" >-0.022236</td>\n",
       "      <td id=\"T_0b1a0_row3_col2\" class=\"data row3 col2\" >0.816866</td>\n",
       "      <td id=\"T_0b1a0_row3_col3\" class=\"data row3 col3\" >1.000000</td>\n",
       "      <td id=\"T_0b1a0_row3_col4\" class=\"data row3 col4\" >-0.798717</td>\n",
       "      <td id=\"T_0b1a0_row3_col5\" class=\"data row3 col5\" >-0.045279</td>\n",
       "      <td id=\"T_0b1a0_row3_col6\" class=\"data row3 col6\" >0.016290</td>\n",
       "      <td id=\"T_0b1a0_row3_col7\" class=\"data row3 col7\" >-0.005994</td>\n",
       "      <td id=\"T_0b1a0_row3_col8\" class=\"data row3 col8\" >0.007046</td>\n",
       "      <td id=\"T_0b1a0_row3_col9\" class=\"data row3 col9\" >0.021007</td>\n",
       "    </tr>\n",
       "    <tr>\n",
       "      <th id=\"T_0b1a0_level0_row4\" class=\"row_heading level0 row4\" >f5</th>\n",
       "      <td id=\"T_0b1a0_row4_col0\" class=\"data row4 col0\" >0.064905</td>\n",
       "      <td id=\"T_0b1a0_row4_col1\" class=\"data row4 col1\" >0.043580</td>\n",
       "      <td id=\"T_0b1a0_row4_col2\" class=\"data row4 col2\" >-0.390944</td>\n",
       "      <td id=\"T_0b1a0_row4_col3\" class=\"data row4 col3\" >-0.798717</td>\n",
       "      <td id=\"T_0b1a0_row4_col4\" class=\"data row4 col4\" >1.000000</td>\n",
       "      <td id=\"T_0b1a0_row4_col5\" class=\"data row4 col5\" >0.004636</td>\n",
       "      <td id=\"T_0b1a0_row4_col6\" class=\"data row4 col6\" >-0.057792</td>\n",
       "      <td id=\"T_0b1a0_row4_col7\" class=\"data row4 col7\" >0.016758</td>\n",
       "      <td id=\"T_0b1a0_row4_col8\" class=\"data row4 col8\" >0.027323</td>\n",
       "      <td id=\"T_0b1a0_row4_col9\" class=\"data row4 col9\" >-0.014113</td>\n",
       "    </tr>\n",
       "    <tr>\n",
       "      <th id=\"T_0b1a0_level0_row5\" class=\"row_heading level0 row5\" >f6</th>\n",
       "      <td id=\"T_0b1a0_row5_col0\" class=\"data row5 col0\" >0.008296</td>\n",
       "      <td id=\"T_0b1a0_row5_col1\" class=\"data row5 col1\" >0.026203</td>\n",
       "      <td id=\"T_0b1a0_row5_col2\" class=\"data row5 col2\" >-0.043149</td>\n",
       "      <td id=\"T_0b1a0_row5_col3\" class=\"data row5 col3\" >-0.045279</td>\n",
       "      <td id=\"T_0b1a0_row5_col4\" class=\"data row5 col4\" >0.004636</td>\n",
       "      <td id=\"T_0b1a0_row5_col5\" class=\"data row5 col5\" >1.000000</td>\n",
       "      <td id=\"T_0b1a0_row5_col6\" class=\"data row5 col6\" >0.004129</td>\n",
       "      <td id=\"T_0b1a0_row5_col7\" class=\"data row5 col7\" >0.072476</td>\n",
       "      <td id=\"T_0b1a0_row5_col8\" class=\"data row5 col8\" >-0.038395</td>\n",
       "      <td id=\"T_0b1a0_row5_col9\" class=\"data row5 col9\" >0.109527</td>\n",
       "    </tr>\n",
       "    <tr>\n",
       "      <th id=\"T_0b1a0_level0_row6\" class=\"row_heading level0 row6\" >f7</th>\n",
       "      <td id=\"T_0b1a0_row6_col0\" class=\"data row6 col0\" >-0.141791</td>\n",
       "      <td id=\"T_0b1a0_row6_col1\" class=\"data row6 col1\" >-0.090980</td>\n",
       "      <td id=\"T_0b1a0_row6_col2\" class=\"data row6 col2\" >-0.030340</td>\n",
       "      <td id=\"T_0b1a0_row6_col3\" class=\"data row6 col3\" >0.016290</td>\n",
       "      <td id=\"T_0b1a0_row6_col4\" class=\"data row6 col4\" >-0.057792</td>\n",
       "      <td id=\"T_0b1a0_row6_col5\" class=\"data row6 col5\" >0.004129</td>\n",
       "      <td id=\"T_0b1a0_row6_col6\" class=\"data row6 col6\" >1.000000</td>\n",
       "      <td id=\"T_0b1a0_row6_col7\" class=\"data row6 col7\" >0.003402</td>\n",
       "      <td id=\"T_0b1a0_row6_col8\" class=\"data row6 col8\" >-0.015471</td>\n",
       "      <td id=\"T_0b1a0_row6_col9\" class=\"data row6 col9\" >0.073689</td>\n",
       "    </tr>\n",
       "    <tr>\n",
       "      <th id=\"T_0b1a0_level0_row7\" class=\"row_heading level0 row7\" >f8</th>\n",
       "      <td id=\"T_0b1a0_row7_col0\" class=\"data row7 col0\" >-0.020367</td>\n",
       "      <td id=\"T_0b1a0_row7_col1\" class=\"data row7 col1\" >-0.006930</td>\n",
       "      <td id=\"T_0b1a0_row7_col2\" class=\"data row7 col2\" >-0.005084</td>\n",
       "      <td id=\"T_0b1a0_row7_col3\" class=\"data row7 col3\" >-0.005994</td>\n",
       "      <td id=\"T_0b1a0_row7_col4\" class=\"data row7 col4\" >0.016758</td>\n",
       "      <td id=\"T_0b1a0_row7_col5\" class=\"data row7 col5\" >0.072476</td>\n",
       "      <td id=\"T_0b1a0_row7_col6\" class=\"data row7 col6\" >0.003402</td>\n",
       "      <td id=\"T_0b1a0_row7_col7\" class=\"data row7 col7\" >1.000000</td>\n",
       "      <td id=\"T_0b1a0_row7_col8\" class=\"data row7 col8\" >-0.048227</td>\n",
       "      <td id=\"T_0b1a0_row7_col9\" class=\"data row7 col9\" >-0.003404</td>\n",
       "    </tr>\n",
       "    <tr>\n",
       "      <th id=\"T_0b1a0_level0_row8\" class=\"row_heading level0 row8\" >f9</th>\n",
       "      <td id=\"T_0b1a0_row8_col0\" class=\"data row8 col0\" >-0.018657</td>\n",
       "      <td id=\"T_0b1a0_row8_col1\" class=\"data row8 col1\" >-0.015338</td>\n",
       "      <td id=\"T_0b1a0_row8_col2\" class=\"data row8 col2\" >0.025913</td>\n",
       "      <td id=\"T_0b1a0_row8_col3\" class=\"data row8 col3\" >0.007046</td>\n",
       "      <td id=\"T_0b1a0_row8_col4\" class=\"data row8 col4\" >0.027323</td>\n",
       "      <td id=\"T_0b1a0_row8_col5\" class=\"data row8 col5\" >-0.038395</td>\n",
       "      <td id=\"T_0b1a0_row8_col6\" class=\"data row8 col6\" >-0.015471</td>\n",
       "      <td id=\"T_0b1a0_row8_col7\" class=\"data row8 col7\" >-0.048227</td>\n",
       "      <td id=\"T_0b1a0_row8_col8\" class=\"data row8 col8\" >1.000000</td>\n",
       "      <td id=\"T_0b1a0_row8_col9\" class=\"data row8 col9\" >0.007014</td>\n",
       "    </tr>\n",
       "    <tr>\n",
       "      <th id=\"T_0b1a0_level0_row9\" class=\"row_heading level0 row9\" >f10</th>\n",
       "      <td id=\"T_0b1a0_row9_col0\" class=\"data row9 col0\" >0.078954</td>\n",
       "      <td id=\"T_0b1a0_row9_col1\" class=\"data row9 col1\" >0.047891</td>\n",
       "      <td id=\"T_0b1a0_row9_col2\" class=\"data row9 col2\" >0.044718</td>\n",
       "      <td id=\"T_0b1a0_row9_col3\" class=\"data row9 col3\" >0.021007</td>\n",
       "      <td id=\"T_0b1a0_row9_col4\" class=\"data row9 col4\" >-0.014113</td>\n",
       "      <td id=\"T_0b1a0_row9_col5\" class=\"data row9 col5\" >0.109527</td>\n",
       "      <td id=\"T_0b1a0_row9_col6\" class=\"data row9 col6\" >0.073689</td>\n",
       "      <td id=\"T_0b1a0_row9_col7\" class=\"data row9 col7\" >-0.003404</td>\n",
       "      <td id=\"T_0b1a0_row9_col8\" class=\"data row9 col8\" >0.007014</td>\n",
       "      <td id=\"T_0b1a0_row9_col9\" class=\"data row9 col9\" >1.000000</td>\n",
       "    </tr>\n",
       "  </tbody>\n",
       "</table>\n"
      ],
      "text/plain": [
       "<pandas.io.formats.style.Styler at 0x7fd7a00c7070>"
      ]
     },
     "metadata": {},
     "output_type": "display_data"
    }
   ],
   "source": [
    "corrMat = X_train.corr()\n",
    "display(corrMat.style.applymap(color_thresh, thres=0.75))"
   ]
  },
  {
   "cell_type": "markdown",
   "id": "d8bb7c83-983f-4366-8133-b82d3d760d8f",
   "metadata": {},
   "source": [
    "This correlation matrix we are now going interpret as a adjacency matrix of a graph. Each of the nodes in the graph repesents the features, and the correlations between the features are the weights of the edges connecting the nodes. First any edge whose absolute value is below our threshold is changed to be equal to 0. In terms of graphs, this is cutting edges potentially breaking the initial graph into disconnected subgraphs."
   ]
  },
  {
   "cell_type": "code",
   "execution_count": 20,
   "id": "22ca1015-8a59-4173-a86e-3caa4ace3d81",
   "metadata": {},
   "outputs": [],
   "source": [
    "corrMat[abs(corrMat)<=0.75]=0"
   ]
  },
  {
   "cell_type": "markdown",
   "id": "bcb9a38a-b437-4a27-b75c-e8a7cfff2459",
   "metadata": {},
   "source": [
    "Next we actually convert it into a graph object as now we wish to get all of the distinct components of the graph"
   ]
  },
  {
   "cell_type": "code",
   "execution_count": 21,
   "id": "d58deb62-8393-4101-9a6e-574cda8fb37b",
   "metadata": {},
   "outputs": [],
   "source": [
    "G = nx.from_numpy_matrix(corrMat.values)"
   ]
  },
  {
   "cell_type": "code",
   "execution_count": 22,
   "id": "3f27bcf9-89b4-4280-a4b3-a67c911f35f5",
   "metadata": {},
   "outputs": [],
   "source": [
    "feat_to_reduce = [list(g) for g in nx.connected_components(G) if len(g)>1]\n",
    "feat_to_keep = [list(g)[0] for g in nx.connected_components(G) if len(g)==1]"
   ]
  },
  {
   "cell_type": "markdown",
   "id": "052a5b14-ebbf-4350-95f6-0cea90ba49ab",
   "metadata": {},
   "source": [
    "To illustrate we next print the isolated nodes. These are the nodes/features that have been completly cut from the rest of the graph and therefore will not be reduced and given to the model as-is"
   ]
  },
  {
   "cell_type": "code",
   "execution_count": 23,
   "id": "5c03ce3b-8ae5-4fc7-a0e2-f9f09f3cb839",
   "metadata": {},
   "outputs": [
    {
     "data": {
      "text/plain": [
       "[5, 6, 7, 8, 9]"
      ]
     },
     "execution_count": 23,
     "metadata": {},
     "output_type": "execute_result"
    }
   ],
   "source": [
    "feat_to_keep"
   ]
  },
  {
   "cell_type": "markdown",
   "id": "ac7ef842-531a-4103-8409-ddff2e7a81e5",
   "metadata": {},
   "source": [
    "Next we print the list of connected compents - the groups of features that are to be reduced."
   ]
  },
  {
   "cell_type": "code",
   "execution_count": 24,
   "id": "33dfac8e-c2ca-4d83-be99-1463a191e4cb",
   "metadata": {},
   "outputs": [
    {
     "data": {
      "text/plain": [
       "[[0, 1], [2, 3, 4]]"
      ]
     },
     "execution_count": 24,
     "metadata": {},
     "output_type": "execute_result"
    }
   ],
   "source": [
    "feat_to_reduce"
   ]
  },
  {
   "cell_type": "markdown",
   "id": "5492e463-31a3-4ff2-94b6-dc9be4d5d56d",
   "metadata": {},
   "source": [
    "See here we have two groups. Both of which will have a seperate PCA transformer applied to the respective features, reducing it to one dimension."
   ]
  },
  {
   "cell_type": "code",
   "execution_count": 25,
   "id": "b66ad88f-7f2c-43ab-a11c-77224e1908e9",
   "metadata": {},
   "outputs": [],
   "source": [
    "list_of_trained_pca = []\n",
    "X_train_trans_hybrid = pd.DataFrame()\n",
    "\n",
    "#for each grouping\n",
    "for i in range(0,len(feat_to_reduce)):\n",
    "    current_pca = PCA(n_components=1)                  #init the pca transformer\n",
    "    current_pca.fit(X_train.iloc[:,feat_to_reduce[i]]) #fit the transformer on the current grouping\n",
    "    list_of_trained_pca.append(current_pca)            #append to the list as we will need it later on\n",
    "    \n",
    "    #transform training data and put it into a dataframe\n",
    "    X_train_trans_hybrid = pd.concat([\n",
    "        X_train_trans_hybrid,pd.DataFrame(current_pca.transform(X_train.iloc[:,feat_to_reduce[i]]),columns=['pca_'+str(i)])],\n",
    "        axis=1)\n",
    "\n",
    "#add on the un-transformed features\n",
    "X_train_trans_hybrid = pd.concat([X_train_trans_hybrid,X_train.iloc[:,feat_to_keep].reset_index(drop=True)],axis=1)"
   ]
  },
  {
   "cell_type": "code",
   "execution_count": 26,
   "id": "53e98ff4-31f3-4a84-bae0-2fd5e0577dd2",
   "metadata": {},
   "outputs": [
    {
     "data": {
      "text/plain": [
       "LinearRegression()"
      ]
     },
     "execution_count": 26,
     "metadata": {},
     "output_type": "execute_result"
    }
   ],
   "source": [
    "#init the model and fit to the transformed data\n",
    "hybrid_LR = LinearRegression()\n",
    "hybrid_LR.fit(X_train_trans_hybrid,y_train)"
   ]
  },
  {
   "cell_type": "code",
   "execution_count": 27,
   "id": "c9481736-9eda-4f12-b2c4-14b052771ec5",
   "metadata": {},
   "outputs": [],
   "source": [
    "#create the transformed test data set.\n",
    "X_test_trans_hybrid = pd.concat(\n",
    "    [pd.DataFrame(list_of_trained_pca[i].transform(X_test.iloc[:,feat_to_reduce[i]]),columns=['pca_'+str(i)]) for i in range(0,len(feat_to_reduce))]+[X_test.iloc[:,feat_to_keep].reset_index(drop=True)]\n",
    "    ,axis=1)"
   ]
  },
  {
   "cell_type": "code",
   "execution_count": 28,
   "id": "30173675-87f8-4ee8-9929-6afe4b000cb0",
   "metadata": {},
   "outputs": [],
   "source": [
    "d_set = ['Train','Test','all']\n",
    "res = []\n",
    "\n",
    "#For each of our sets\n",
    "for s in d_set:\n",
    "    #set out evaluation variables\n",
    "    if s=='Train':\n",
    "        x_set = X_train_trans_hybrid\n",
    "        y_set = y_train\n",
    "    elif s=='Test':\n",
    "        x_set = X_test_trans_hybrid\n",
    "        y_set = y_test\n",
    "    elif s=='all':\n",
    "        x_set = pd.concat([X_train_trans_hybrid,X_test_trans_hybrid])\n",
    "        y_set = pd.concat([y_train.reset_index(drop=True),y_test.reset_index(drop=True)])\n",
    "    #evaluate our set and append the results to our results list\n",
    "    res.append([\n",
    "        s,\n",
    "        hybrid_LR.score(x_set,y_set),\n",
    "        mean_absolute_error(y_set,hybrid_LR.predict(x_set)),\n",
    "        mean_squared_error(y_set,hybrid_LR.predict(x_set)),\n",
    "        mean_absolute_percentage_error(y_set,hybrid_LR.predict(x_set))\n",
    "    ])"
   ]
  },
  {
   "cell_type": "code",
   "execution_count": 29,
   "id": "11ed1b3d-4d68-40ba-b65a-afeaab556df5",
   "metadata": {},
   "outputs": [
    {
     "data": {
      "text/html": [
       "<div>\n",
       "<style scoped>\n",
       "    .dataframe tbody tr th:only-of-type {\n",
       "        vertical-align: middle;\n",
       "    }\n",
       "\n",
       "    .dataframe tbody tr th {\n",
       "        vertical-align: top;\n",
       "    }\n",
       "\n",
       "    .dataframe thead th {\n",
       "        text-align: right;\n",
       "    }\n",
       "</style>\n",
       "<table border=\"1\" class=\"dataframe\">\n",
       "  <thead>\n",
       "    <tr style=\"text-align: right;\">\n",
       "      <th></th>\n",
       "      <th>R^2</th>\n",
       "      <th>MAE</th>\n",
       "      <th>MSE</th>\n",
       "      <th>MAPE</th>\n",
       "    </tr>\n",
       "    <tr>\n",
       "      <th>subset</th>\n",
       "      <th></th>\n",
       "      <th></th>\n",
       "      <th></th>\n",
       "      <th></th>\n",
       "    </tr>\n",
       "  </thead>\n",
       "  <tbody>\n",
       "    <tr>\n",
       "      <th>Train</th>\n",
       "      <td>0.813873</td>\n",
       "      <td>6.941348</td>\n",
       "      <td>77.573193</td>\n",
       "      <td>1.358226</td>\n",
       "    </tr>\n",
       "    <tr>\n",
       "      <th>Test</th>\n",
       "      <td>0.827783</td>\n",
       "      <td>6.753071</td>\n",
       "      <td>70.102845</td>\n",
       "      <td>0.780706</td>\n",
       "    </tr>\n",
       "    <tr>\n",
       "      <th>all</th>\n",
       "      <td>0.817848</td>\n",
       "      <td>6.894279</td>\n",
       "      <td>75.705606</td>\n",
       "      <td>1.213846</td>\n",
       "    </tr>\n",
       "  </tbody>\n",
       "</table>\n",
       "</div>"
      ],
      "text/plain": [
       "             R^2       MAE        MSE      MAPE\n",
       "subset                                         \n",
       "Train   0.813873  6.941348  77.573193  1.358226\n",
       "Test    0.827783  6.753071  70.102845  0.780706\n",
       "all     0.817848  6.894279  75.705606  1.213846"
      ]
     },
     "execution_count": 29,
     "metadata": {},
     "output_type": "execute_result"
    }
   ],
   "source": [
    "hybrid_res_df = pd.DataFrame(res,columns=['subset','R^2','MAE','MSE','MAPE']).set_index('subset')\n",
    "hybrid_res_df"
   ]
  },
  {
   "cell_type": "markdown",
   "id": "633646bf-fce2-4411-8322-d237a03fbb77",
   "metadata": {},
   "source": [
    "<br></br>"
   ]
  },
  {
   "cell_type": "markdown",
   "id": "db57eba7-68ea-49b3-9e02-61af2a8ff377",
   "metadata": {
    "tags": []
   },
   "source": [
    "## Comparison"
   ]
  },
  {
   "cell_type": "markdown",
   "id": "2372038b-b9ec-46d1-9b15-8bbe8f29d071",
   "metadata": {},
   "source": [
    "We have now evaluated all three of the models we set out to create on our inital synthetic data set that we created. Below we now display the results of all three models. "
   ]
  },
  {
   "cell_type": "code",
   "execution_count": 30,
   "id": "23f6b327-0704-44c0-84ab-2ef38a148d1e",
   "metadata": {},
   "outputs": [
    {
     "data": {
      "text/html": [
       "<div>\n",
       "<style scoped>\n",
       "    .dataframe tbody tr th:only-of-type {\n",
       "        vertical-align: middle;\n",
       "    }\n",
       "\n",
       "    .dataframe tbody tr th {\n",
       "        vertical-align: top;\n",
       "    }\n",
       "\n",
       "    .dataframe thead th {\n",
       "        text-align: right;\n",
       "    }\n",
       "</style>\n",
       "<table border=\"1\" class=\"dataframe\">\n",
       "  <thead>\n",
       "    <tr style=\"text-align: right;\">\n",
       "      <th></th>\n",
       "      <th>R^2</th>\n",
       "      <th>MAE</th>\n",
       "      <th>MSE</th>\n",
       "      <th>MAPE</th>\n",
       "    </tr>\n",
       "    <tr>\n",
       "      <th>subset</th>\n",
       "      <th></th>\n",
       "      <th></th>\n",
       "      <th></th>\n",
       "      <th></th>\n",
       "    </tr>\n",
       "  </thead>\n",
       "  <tbody>\n",
       "    <tr>\n",
       "      <th>Train</th>\n",
       "      <td>0.938015</td>\n",
       "      <td>4.101535</td>\n",
       "      <td>25.833789</td>\n",
       "      <td>0.725365</td>\n",
       "    </tr>\n",
       "    <tr>\n",
       "      <th>Test</th>\n",
       "      <td>0.944579</td>\n",
       "      <td>3.743841</td>\n",
       "      <td>22.559766</td>\n",
       "      <td>0.560040</td>\n",
       "    </tr>\n",
       "    <tr>\n",
       "      <th>all</th>\n",
       "      <td>0.939812</td>\n",
       "      <td>4.012111</td>\n",
       "      <td>25.015283</td>\n",
       "      <td>0.684034</td>\n",
       "    </tr>\n",
       "  </tbody>\n",
       "</table>\n",
       "</div>"
      ],
      "text/plain": [
       "             R^2       MAE        MSE      MAPE\n",
       "subset                                         \n",
       "Train   0.938015  4.101535  25.833789  0.725365\n",
       "Test    0.944579  3.743841  22.559766  0.560040\n",
       "all     0.939812  4.012111  25.015283  0.684034"
      ]
     },
     "execution_count": 30,
     "metadata": {},
     "output_type": "execute_result"
    }
   ],
   "source": [
    "nat_res_df"
   ]
  },
  {
   "cell_type": "code",
   "execution_count": 31,
   "id": "461714d7-3a8a-4b20-9941-792670ad4afc",
   "metadata": {},
   "outputs": [
    {
     "data": {
      "text/html": [
       "<div>\n",
       "<style scoped>\n",
       "    .dataframe tbody tr th:only-of-type {\n",
       "        vertical-align: middle;\n",
       "    }\n",
       "\n",
       "    .dataframe tbody tr th {\n",
       "        vertical-align: top;\n",
       "    }\n",
       "\n",
       "    .dataframe thead th {\n",
       "        text-align: right;\n",
       "    }\n",
       "</style>\n",
       "<table border=\"1\" class=\"dataframe\">\n",
       "  <thead>\n",
       "    <tr style=\"text-align: right;\">\n",
       "      <th></th>\n",
       "      <th>R^2</th>\n",
       "      <th>MAE</th>\n",
       "      <th>MSE</th>\n",
       "      <th>MAPE</th>\n",
       "    </tr>\n",
       "    <tr>\n",
       "      <th>subset</th>\n",
       "      <th></th>\n",
       "      <th></th>\n",
       "      <th></th>\n",
       "      <th></th>\n",
       "    </tr>\n",
       "  </thead>\n",
       "  <tbody>\n",
       "    <tr>\n",
       "      <th>Train</th>\n",
       "      <td>0.813873</td>\n",
       "      <td>6.941348</td>\n",
       "      <td>77.573193</td>\n",
       "      <td>1.358226</td>\n",
       "    </tr>\n",
       "    <tr>\n",
       "      <th>Test</th>\n",
       "      <td>0.827783</td>\n",
       "      <td>6.753071</td>\n",
       "      <td>70.102845</td>\n",
       "      <td>0.780706</td>\n",
       "    </tr>\n",
       "    <tr>\n",
       "      <th>all</th>\n",
       "      <td>0.817848</td>\n",
       "      <td>6.894279</td>\n",
       "      <td>75.705606</td>\n",
       "      <td>1.213846</td>\n",
       "    </tr>\n",
       "  </tbody>\n",
       "</table>\n",
       "</div>"
      ],
      "text/plain": [
       "             R^2       MAE        MSE      MAPE\n",
       "subset                                         \n",
       "Train   0.813873  6.941348  77.573193  1.358226\n",
       "Test    0.827783  6.753071  70.102845  0.780706\n",
       "all     0.817848  6.894279  75.705606  1.213846"
      ]
     },
     "execution_count": 31,
     "metadata": {},
     "output_type": "execute_result"
    }
   ],
   "source": [
    "hybrid_res_df"
   ]
  },
  {
   "cell_type": "code",
   "execution_count": 32,
   "id": "7d6d403c-ec0d-4aa6-a48a-ba4f50927469",
   "metadata": {},
   "outputs": [
    {
     "data": {
      "text/html": [
       "<div>\n",
       "<style scoped>\n",
       "    .dataframe tbody tr th:only-of-type {\n",
       "        vertical-align: middle;\n",
       "    }\n",
       "\n",
       "    .dataframe tbody tr th {\n",
       "        vertical-align: top;\n",
       "    }\n",
       "\n",
       "    .dataframe thead th {\n",
       "        text-align: right;\n",
       "    }\n",
       "</style>\n",
       "<table border=\"1\" class=\"dataframe\">\n",
       "  <thead>\n",
       "    <tr style=\"text-align: right;\">\n",
       "      <th></th>\n",
       "      <th>R^2</th>\n",
       "      <th>MAE</th>\n",
       "      <th>MSE</th>\n",
       "      <th>MAPE</th>\n",
       "    </tr>\n",
       "    <tr>\n",
       "      <th>subset</th>\n",
       "      <th></th>\n",
       "      <th></th>\n",
       "      <th></th>\n",
       "      <th></th>\n",
       "    </tr>\n",
       "  </thead>\n",
       "  <tbody>\n",
       "    <tr>\n",
       "      <th>Train</th>\n",
       "      <td>0.556617</td>\n",
       "      <td>10.580950</td>\n",
       "      <td>184.790792</td>\n",
       "      <td>2.062910</td>\n",
       "    </tr>\n",
       "    <tr>\n",
       "      <th>Test</th>\n",
       "      <td>0.548052</td>\n",
       "      <td>11.102770</td>\n",
       "      <td>183.971046</td>\n",
       "      <td>1.320428</td>\n",
       "    </tr>\n",
       "    <tr>\n",
       "      <th>all</th>\n",
       "      <td>0.555877</td>\n",
       "      <td>10.711405</td>\n",
       "      <td>184.585855</td>\n",
       "      <td>1.877290</td>\n",
       "    </tr>\n",
       "  </tbody>\n",
       "</table>\n",
       "</div>"
      ],
      "text/plain": [
       "             R^2        MAE         MSE      MAPE\n",
       "subset                                           \n",
       "Train   0.556617  10.580950  184.790792  2.062910\n",
       "Test    0.548052  11.102770  183.971046  1.320428\n",
       "all     0.555877  10.711405  184.585855  1.877290"
      ]
     },
     "execution_count": 32,
     "metadata": {},
     "output_type": "execute_result"
    }
   ],
   "source": [
    "pca_res_df"
   ]
  },
  {
   "cell_type": "markdown",
   "id": "c51bd8d5-380b-4460-98d4-471d2f126022",
   "metadata": {},
   "source": [
    "As always context is very important. The results shown above are based on one synthetically created data set. The results shown above could have been obtained by chance or the synthetic dataset could be a inaccurate representation. These results are therfore preliminary and serve as a rough indication as to if the there maybe something worth further persuit.\n",
    "\n",
    "In terms of raw results it is very clear with all of the selected metrics that the rankings of the models are:\n",
    " 1. Natural\n",
    " 2. Hybrid\n",
    " 3. PCA\n",
    "\n",
    "In every single entries of the respective tables the higher ranking model is better than the lower ranking method. If this data and these results were to present themself in a real world problem you would unequivalently choose the natural model. \n",
    "\n",
    "This makes sense as the natural model is working off all 10 features from the original feature space and has more \"space\" to create a more precise solution. The interesting part comes when you look at the difference between the natural model and the other two models, and them to each other. \n",
    "\n",
    "With the PCA model there is almost a $50%$ decrease in results across all the metrics making it the worst performing model. This does make sense when we consider it was built on 5 features which were constructed by PCA. The logical question would be if we saw similar results as we varied the number of PCA components. \n",
    "\n",
    "As for the hybrid-model we see that is performs about $10%$ worst than the natural model but it is significantly better than the PCA model by comparision. The next question is is this a one off or is this a consistent result. this test would need to be replicated multiple times over the the results statistically analised."
   ]
  },
  {
   "cell_type": "markdown",
   "id": "22e4ff7b-3dfe-417a-affc-287c37e13e3f",
   "metadata": {
    "tags": []
   },
   "source": [
    "## PCA model v2"
   ]
  },
  {
   "cell_type": "markdown",
   "id": "da845ff2-efa0-455a-814c-177c6075301b",
   "metadata": {},
   "source": [
    "Just out of curiosity how does the pca model compare if we reduced it down to 7 features instead of 5. The same as what the hybrid model reduces to"
   ]
  },
  {
   "cell_type": "code",
   "execution_count": 33,
   "id": "3f4f5c8d-b34c-4810-8f95-c4ce76ab878d",
   "metadata": {},
   "outputs": [
    {
     "data": {
      "text/plain": [
       "PCA(n_components=7)"
      ]
     },
     "execution_count": 33,
     "metadata": {},
     "output_type": "execute_result"
    }
   ],
   "source": [
    "#Init PCA transformer and fit to TRAINING data\n",
    "pca2 = PCA(n_components=7)\n",
    "pca2.fit(X_train)"
   ]
  },
  {
   "cell_type": "code",
   "execution_count": 34,
   "id": "0c93950b-d418-44fd-9007-9409e3dabd74",
   "metadata": {},
   "outputs": [],
   "source": [
    "#Transform training data\n",
    "X_train_trans = pca2.transform(X_train)"
   ]
  },
  {
   "cell_type": "code",
   "execution_count": 35,
   "id": "955abea9-a069-4d94-a932-46df6a15c492",
   "metadata": {},
   "outputs": [
    {
     "data": {
      "text/plain": [
       "LinearRegression()"
      ]
     },
     "execution_count": 35,
     "metadata": {},
     "output_type": "execute_result"
    }
   ],
   "source": [
    "#Init model and fit to transformed training data\n",
    "pca2_LR = LinearRegression()\n",
    "pca2_LR.fit(X_train_trans,y_train)"
   ]
  },
  {
   "cell_type": "code",
   "execution_count": 36,
   "id": "db6b5fad-49c2-4fe6-ace2-4ca5b9c2dc24",
   "metadata": {},
   "outputs": [],
   "source": [
    "d_set = ['Train','Test','all']\n",
    "res = []\n",
    "\n",
    "#For each of our sets\n",
    "for s in d_set:\n",
    "    #set out evaluation variables\n",
    "    if s=='Train':\n",
    "        x_set = X_train_trans\n",
    "        y_set = y_train\n",
    "    elif s=='Test':\n",
    "        x_set = pca2.transform(X_test)\n",
    "        y_set = y_test\n",
    "    elif s=='all':\n",
    "        x_set = pca2.transform(X)\n",
    "        y_set = y\n",
    "    #evaluate our set and append the results to our results list\n",
    "    res.append([\n",
    "        s,\n",
    "        pca2_LR.score(x_set,y_set),\n",
    "        mean_absolute_error(y_set,pca2_LR.predict(x_set)),\n",
    "        mean_squared_error(y_set,pca2_LR.predict(x_set)),\n",
    "        mean_absolute_percentage_error(y_set,pca2_LR.predict(x_set))\n",
    "    ])"
   ]
  },
  {
   "cell_type": "code",
   "execution_count": 37,
   "id": "5acd8d12-7117-4277-9482-d4a92e95e801",
   "metadata": {},
   "outputs": [
    {
     "data": {
      "text/html": [
       "<div>\n",
       "<style scoped>\n",
       "    .dataframe tbody tr th:only-of-type {\n",
       "        vertical-align: middle;\n",
       "    }\n",
       "\n",
       "    .dataframe tbody tr th {\n",
       "        vertical-align: top;\n",
       "    }\n",
       "\n",
       "    .dataframe thead th {\n",
       "        text-align: right;\n",
       "    }\n",
       "</style>\n",
       "<table border=\"1\" class=\"dataframe\">\n",
       "  <thead>\n",
       "    <tr style=\"text-align: right;\">\n",
       "      <th></th>\n",
       "      <th>R^2</th>\n",
       "      <th>MAE</th>\n",
       "      <th>MSE</th>\n",
       "      <th>MAPE</th>\n",
       "    </tr>\n",
       "    <tr>\n",
       "      <th>subset</th>\n",
       "      <th></th>\n",
       "      <th></th>\n",
       "      <th></th>\n",
       "      <th></th>\n",
       "    </tr>\n",
       "  </thead>\n",
       "  <tbody>\n",
       "    <tr>\n",
       "      <th>Train</th>\n",
       "      <td>0.914959</td>\n",
       "      <td>4.747275</td>\n",
       "      <td>35.442845</td>\n",
       "      <td>0.964181</td>\n",
       "    </tr>\n",
       "    <tr>\n",
       "      <th>Test</th>\n",
       "      <td>0.911440</td>\n",
       "      <td>4.774319</td>\n",
       "      <td>36.049371</td>\n",
       "      <td>0.668264</td>\n",
       "    </tr>\n",
       "    <tr>\n",
       "      <th>all</th>\n",
       "      <td>0.914358</td>\n",
       "      <td>4.754036</td>\n",
       "      <td>35.594476</td>\n",
       "      <td>0.890202</td>\n",
       "    </tr>\n",
       "  </tbody>\n",
       "</table>\n",
       "</div>"
      ],
      "text/plain": [
       "             R^2       MAE        MSE      MAPE\n",
       "subset                                         \n",
       "Train   0.914959  4.747275  35.442845  0.964181\n",
       "Test    0.911440  4.774319  36.049371  0.668264\n",
       "all     0.914358  4.754036  35.594476  0.890202"
      ]
     },
     "execution_count": 37,
     "metadata": {},
     "output_type": "execute_result"
    }
   ],
   "source": [
    "#Transform into dataframe for ease of viewing\n",
    "pca2_res_df = pd.DataFrame(res,columns=['subset','R^2','MAE','MSE','MAPE']).set_index('subset')\n",
    "pca2_res_df"
   ]
  },
  {
   "cell_type": "markdown",
   "id": "b4f9bc58-b947-46eb-b6c7-6625d56cfe3d",
   "metadata": {},
   "source": [
    "Well... i guess that answers that then..."
   ]
  },
  {
   "cell_type": "code",
   "execution_count": null,
   "id": "e7968560-e4fe-4bf6-a822-5b505e9e7af1",
   "metadata": {},
   "outputs": [],
   "source": []
  }
 ],
 "metadata": {
  "kernelspec": {
   "display_name": "Python 3 (ipykernel)",
   "language": "python",
   "name": "python3"
  },
  "language_info": {
   "codemirror_mode": {
    "name": "ipython",
    "version": 3
   },
   "file_extension": ".py",
   "mimetype": "text/x-python",
   "name": "python",
   "nbconvert_exporter": "python",
   "pygments_lexer": "ipython3",
   "version": "3.8.11"
  }
 },
 "nbformat": 4,
 "nbformat_minor": 5
}
