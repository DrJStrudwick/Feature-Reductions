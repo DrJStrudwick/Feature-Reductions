{
 "cells": [
  {
   "cell_type": "markdown",
   "id": "12aa3406-9ccf-4310-bc15-3d5697e683b0",
   "metadata": {},
   "source": [
    "# Synthetic Data Creation"
   ]
  },
  {
   "cell_type": "markdown",
   "id": "c78ca294-9c60-405b-8b6b-bcd04653db56",
   "metadata": {},
   "source": [
    "This note book shall be where we create the synthetic-dataset to be use for out testing."
   ]
  },
  {
   "cell_type": "markdown",
   "id": "0e29c65b-53eb-40bd-b04d-d3ff57683a0b",
   "metadata": {},
   "source": [
    "Summary of what we wish to achieve:\n",
    "\n",
    "We are aiming to create a dataset from which we can build a linear regression/simple polynomial regression model without regularisation. The data set needs to have a sufficent number of samples so we can form a training set and a test set. Because of the whole point of this expirment we shall also mandate that some of the features are themselves correlated."
   ]
  },
  {
   "cell_type": "code",
   "execution_count": 144,
   "id": "3d59f93b-6513-4c47-9abc-0ae404718a4c",
   "metadata": {},
   "outputs": [],
   "source": [
    "#Set master parameters.\n",
    "\n",
    "num_of_features = 10\n",
    "num_of_samples = 400\n",
    "train_test_split = 0.25\n",
    "num_of_correlated_features = 5"
   ]
  },
  {
   "cell_type": "code",
   "execution_count": 121,
   "id": "e3665c91-f162-4394-a4d8-a338297a7088",
   "metadata": {},
   "outputs": [],
   "source": [
    "#Library imports\n",
    "import numpy as np\n",
    "import pandas as pd\n",
    "import pickle"
   ]
  },
  {
   "cell_type": "code",
   "execution_count": 122,
   "id": "74ae1f76-74a9-4103-bd2e-8090fd1cf32d",
   "metadata": {},
   "outputs": [],
   "source": [
    "#colouring function \n",
    "def color_thresh(val,thres=0.5):\n",
    "    if abs(val)>=thres:\n",
    "        if val<0:\n",
    "            return 'background-color: red'\n",
    "        else:\n",
    "            return 'background-color: green'\n",
    "    else:\n",
    "        return ''"
   ]
  },
  {
   "cell_type": "markdown",
   "id": "6ce3b434-aeac-4603-87ed-ff4d672801a1",
   "metadata": {},
   "source": [
    "## correlated features"
   ]
  },
  {
   "cell_type": "markdown",
   "id": "4964b19b-cd9b-4cdd-9de8-f8ae94043317",
   "metadata": {},
   "source": [
    "The above function will be useful later on when we need to quick inspect the relations/correlations of our generated data set"
   ]
  },
  {
   "cell_type": "code",
   "execution_count": 123,
   "id": "5f96a6fc-e493-45b1-88c2-807e9f2945f6",
   "metadata": {},
   "outputs": [],
   "source": [
    "mean = [0, 0]\n",
    "cov = [[1, 0.8], [0.8, 1]]  # diagonal covariance"
   ]
  },
  {
   "cell_type": "code",
   "execution_count": 124,
   "id": "3e42accc-b834-4daf-ae89-f8d26470b5dc",
   "metadata": {},
   "outputs": [],
   "source": [
    "data_df = pd.DataFrame(np.random.multivariate_normal(mean,cov,num_of_samples),columns=['f1','f2'])"
   ]
  },
  {
   "cell_type": "code",
   "execution_count": 125,
   "id": "35415d81-274e-4e3c-9bfd-52b2dab3bb6a",
   "metadata": {},
   "outputs": [
    {
     "data": {
      "text/html": [
       "<div>\n",
       "<style scoped>\n",
       "    .dataframe tbody tr th:only-of-type {\n",
       "        vertical-align: middle;\n",
       "    }\n",
       "\n",
       "    .dataframe tbody tr th {\n",
       "        vertical-align: top;\n",
       "    }\n",
       "\n",
       "    .dataframe thead th {\n",
       "        text-align: right;\n",
       "    }\n",
       "</style>\n",
       "<table border=\"1\" class=\"dataframe\">\n",
       "  <thead>\n",
       "    <tr style=\"text-align: right;\">\n",
       "      <th></th>\n",
       "      <th>f1</th>\n",
       "      <th>f2</th>\n",
       "    </tr>\n",
       "  </thead>\n",
       "  <tbody>\n",
       "    <tr>\n",
       "      <th>f1</th>\n",
       "      <td>1.000000</td>\n",
       "      <td>0.833972</td>\n",
       "    </tr>\n",
       "    <tr>\n",
       "      <th>f2</th>\n",
       "      <td>0.833972</td>\n",
       "      <td>1.000000</td>\n",
       "    </tr>\n",
       "  </tbody>\n",
       "</table>\n",
       "</div>"
      ],
      "text/plain": [
       "          f1        f2\n",
       "f1  1.000000  0.833972\n",
       "f2  0.833972  1.000000"
      ]
     },
     "execution_count": 125,
     "metadata": {},
     "output_type": "execute_result"
    }
   ],
   "source": [
    "data_df.corr()"
   ]
  },
  {
   "cell_type": "code",
   "execution_count": 126,
   "id": "6db69152-4b41-42e8-a660-378c7dc5c556",
   "metadata": {},
   "outputs": [],
   "source": [
    "mean2 = [0, 0, 0]\n",
    "cov2 = [[1, 0.9, 0], [0.9, 1, -0.9], [0,-0.9,1]]  # diagonal covariance"
   ]
  },
  {
   "cell_type": "markdown",
   "id": "ca913191-5c26-497d-91e7-f5f1676873ed",
   "metadata": {},
   "source": [
    "note that the covariance matrix needs to be a positive semdefinte matrix, which our above one is not. However we can just use the matrix $A*A^{T}$"
   ]
  },
  {
   "cell_type": "code",
   "execution_count": 127,
   "id": "aaae0021-e1a8-42e0-b640-f0f371e2f5c7",
   "metadata": {},
   "outputs": [
    {
     "data": {
      "text/plain": [
       "array([[ 1.81,  1.8 , -0.81],\n",
       "       [ 1.8 ,  2.62, -1.8 ],\n",
       "       [-0.81, -1.8 ,  1.81]])"
      ]
     },
     "execution_count": 127,
     "metadata": {},
     "output_type": "execute_result"
    }
   ],
   "source": [
    "np.matmul(cov2,cov2)"
   ]
  },
  {
   "cell_type": "code",
   "execution_count": 128,
   "id": "878573d7-27bf-4274-837e-61aaab11818a",
   "metadata": {},
   "outputs": [],
   "source": [
    "data_df2 = pd.DataFrame(np.random.multivariate_normal(mean2,np.matmul(cov2,cov2),num_of_samples),columns=['f3','f4','f5'])"
   ]
  },
  {
   "cell_type": "code",
   "execution_count": 129,
   "id": "4bcf294f-787f-465c-abd1-c6bca70e68ad",
   "metadata": {},
   "outputs": [
    {
     "data": {
      "text/html": [
       "<div>\n",
       "<style scoped>\n",
       "    .dataframe tbody tr th:only-of-type {\n",
       "        vertical-align: middle;\n",
       "    }\n",
       "\n",
       "    .dataframe tbody tr th {\n",
       "        vertical-align: top;\n",
       "    }\n",
       "\n",
       "    .dataframe thead th {\n",
       "        text-align: right;\n",
       "    }\n",
       "</style>\n",
       "<table border=\"1\" class=\"dataframe\">\n",
       "  <thead>\n",
       "    <tr style=\"text-align: right;\">\n",
       "      <th></th>\n",
       "      <th>f3</th>\n",
       "      <th>f4</th>\n",
       "      <th>f5</th>\n",
       "    </tr>\n",
       "  </thead>\n",
       "  <tbody>\n",
       "    <tr>\n",
       "      <th>f3</th>\n",
       "      <td>1.000000</td>\n",
       "      <td>0.818899</td>\n",
       "      <td>-0.392983</td>\n",
       "    </tr>\n",
       "    <tr>\n",
       "      <th>f4</th>\n",
       "      <td>0.818899</td>\n",
       "      <td>1.000000</td>\n",
       "      <td>-0.796179</td>\n",
       "    </tr>\n",
       "    <tr>\n",
       "      <th>f5</th>\n",
       "      <td>-0.392983</td>\n",
       "      <td>-0.796179</td>\n",
       "      <td>1.000000</td>\n",
       "    </tr>\n",
       "  </tbody>\n",
       "</table>\n",
       "</div>"
      ],
      "text/plain": [
       "          f3        f4        f5\n",
       "f3  1.000000  0.818899 -0.392983\n",
       "f4  0.818899  1.000000 -0.796179\n",
       "f5 -0.392983 -0.796179  1.000000"
      ]
     },
     "execution_count": 129,
     "metadata": {},
     "output_type": "execute_result"
    }
   ],
   "source": [
    "data_df2.corr()"
   ]
  },
  {
   "cell_type": "markdown",
   "id": "65809940-3268-47cc-8b86-11da057a5bd5",
   "metadata": {
    "tags": []
   },
   "source": [
    "## independent features"
   ]
  },
  {
   "cell_type": "markdown",
   "id": "d632dac7-2469-40b7-937b-5b8c857c57d6",
   "metadata": {},
   "source": [
    "Now that the correlated features are created we can create the remaining features and combine them into one dataframe"
   ]
  },
  {
   "cell_type": "code",
   "execution_count": 130,
   "id": "da59012e-25b0-4704-b1a1-ffbb76a3957f",
   "metadata": {},
   "outputs": [],
   "source": [
    "master_data_df = pd.concat([data_df,data_df2],axis=1)"
   ]
  },
  {
   "cell_type": "code",
   "execution_count": 131,
   "id": "8185665a-52c1-4303-bb9d-bf9a9da0586f",
   "metadata": {},
   "outputs": [],
   "source": [
    "#create remaining features and appened to master dataframe\n",
    "for i in range(num_of_correlated_features+1,num_of_features+1):\n",
    "    master_data_df['f'+str(i)] = np.random.normal(size=(num_of_samples,1))"
   ]
  },
  {
   "cell_type": "markdown",
   "id": "0dbe813b-8366-410e-9645-73e73e04ce0c",
   "metadata": {},
   "source": [
    "Validate the final data matrix has the correlations we desire"
   ]
  },
  {
   "cell_type": "code",
   "execution_count": 132,
   "id": "b36884f1-0ae9-4cb0-a2bc-07014419d475",
   "metadata": {},
   "outputs": [
    {
     "data": {
      "text/html": [
       "<style  type=\"text/css\" >\n",
       "#T_f1ca9_row0_col0,#T_f1ca9_row0_col1,#T_f1ca9_row1_col0,#T_f1ca9_row1_col1,#T_f1ca9_row2_col2,#T_f1ca9_row2_col3,#T_f1ca9_row3_col2,#T_f1ca9_row3_col3,#T_f1ca9_row4_col4,#T_f1ca9_row5_col5,#T_f1ca9_row6_col6,#T_f1ca9_row7_col7,#T_f1ca9_row8_col8,#T_f1ca9_row9_col9{\n",
       "            background-color:  green;\n",
       "        }#T_f1ca9_row3_col4,#T_f1ca9_row4_col3{\n",
       "            background-color:  red;\n",
       "        }</style><table id=\"T_f1ca9_\" ><thead>    <tr>        <th class=\"blank level0\" ></th>        <th class=\"col_heading level0 col0\" >f1</th>        <th class=\"col_heading level0 col1\" >f2</th>        <th class=\"col_heading level0 col2\" >f3</th>        <th class=\"col_heading level0 col3\" >f4</th>        <th class=\"col_heading level0 col4\" >f5</th>        <th class=\"col_heading level0 col5\" >f6</th>        <th class=\"col_heading level0 col6\" >f7</th>        <th class=\"col_heading level0 col7\" >f8</th>        <th class=\"col_heading level0 col8\" >f9</th>        <th class=\"col_heading level0 col9\" >f10</th>    </tr></thead><tbody>\n",
       "                <tr>\n",
       "                        <th id=\"T_f1ca9_level0_row0\" class=\"row_heading level0 row0\" >f1</th>\n",
       "                        <td id=\"T_f1ca9_row0_col0\" class=\"data row0 col0\" >1.000000</td>\n",
       "                        <td id=\"T_f1ca9_row0_col1\" class=\"data row0 col1\" >0.833972</td>\n",
       "                        <td id=\"T_f1ca9_row0_col2\" class=\"data row0 col2\" >0.043350</td>\n",
       "                        <td id=\"T_f1ca9_row0_col3\" class=\"data row0 col3\" >-0.014966</td>\n",
       "                        <td id=\"T_f1ca9_row0_col4\" class=\"data row0 col4\" >0.068611</td>\n",
       "                        <td id=\"T_f1ca9_row0_col5\" class=\"data row0 col5\" >0.018150</td>\n",
       "                        <td id=\"T_f1ca9_row0_col6\" class=\"data row0 col6\" >-0.110752</td>\n",
       "                        <td id=\"T_f1ca9_row0_col7\" class=\"data row0 col7\" >0.030587</td>\n",
       "                        <td id=\"T_f1ca9_row0_col8\" class=\"data row0 col8\" >-0.027945</td>\n",
       "                        <td id=\"T_f1ca9_row0_col9\" class=\"data row0 col9\" >0.065000</td>\n",
       "            </tr>\n",
       "            <tr>\n",
       "                        <th id=\"T_f1ca9_level0_row1\" class=\"row_heading level0 row1\" >f2</th>\n",
       "                        <td id=\"T_f1ca9_row1_col0\" class=\"data row1 col0\" >0.833972</td>\n",
       "                        <td id=\"T_f1ca9_row1_col1\" class=\"data row1 col1\" >1.000000</td>\n",
       "                        <td id=\"T_f1ca9_row1_col2\" class=\"data row1 col2\" >0.013808</td>\n",
       "                        <td id=\"T_f1ca9_row1_col3\" class=\"data row1 col3\" >-0.020577</td>\n",
       "                        <td id=\"T_f1ca9_row1_col4\" class=\"data row1 col4\" >0.052441</td>\n",
       "                        <td id=\"T_f1ca9_row1_col5\" class=\"data row1 col5\" >0.031699</td>\n",
       "                        <td id=\"T_f1ca9_row1_col6\" class=\"data row1 col6\" >-0.073705</td>\n",
       "                        <td id=\"T_f1ca9_row1_col7\" class=\"data row1 col7\" >0.029227</td>\n",
       "                        <td id=\"T_f1ca9_row1_col8\" class=\"data row1 col8\" >-0.007349</td>\n",
       "                        <td id=\"T_f1ca9_row1_col9\" class=\"data row1 col9\" >0.021673</td>\n",
       "            </tr>\n",
       "            <tr>\n",
       "                        <th id=\"T_f1ca9_level0_row2\" class=\"row_heading level0 row2\" >f3</th>\n",
       "                        <td id=\"T_f1ca9_row2_col0\" class=\"data row2 col0\" >0.043350</td>\n",
       "                        <td id=\"T_f1ca9_row2_col1\" class=\"data row2 col1\" >0.013808</td>\n",
       "                        <td id=\"T_f1ca9_row2_col2\" class=\"data row2 col2\" >1.000000</td>\n",
       "                        <td id=\"T_f1ca9_row2_col3\" class=\"data row2 col3\" >0.818899</td>\n",
       "                        <td id=\"T_f1ca9_row2_col4\" class=\"data row2 col4\" >-0.392983</td>\n",
       "                        <td id=\"T_f1ca9_row2_col5\" class=\"data row2 col5\" >-0.027446</td>\n",
       "                        <td id=\"T_f1ca9_row2_col6\" class=\"data row2 col6\" >-0.037770</td>\n",
       "                        <td id=\"T_f1ca9_row2_col7\" class=\"data row2 col7\" >0.002404</td>\n",
       "                        <td id=\"T_f1ca9_row2_col8\" class=\"data row2 col8\" >0.010906</td>\n",
       "                        <td id=\"T_f1ca9_row2_col9\" class=\"data row2 col9\" >0.016226</td>\n",
       "            </tr>\n",
       "            <tr>\n",
       "                        <th id=\"T_f1ca9_level0_row3\" class=\"row_heading level0 row3\" >f4</th>\n",
       "                        <td id=\"T_f1ca9_row3_col0\" class=\"data row3 col0\" >-0.014966</td>\n",
       "                        <td id=\"T_f1ca9_row3_col1\" class=\"data row3 col1\" >-0.020577</td>\n",
       "                        <td id=\"T_f1ca9_row3_col2\" class=\"data row3 col2\" >0.818899</td>\n",
       "                        <td id=\"T_f1ca9_row3_col3\" class=\"data row3 col3\" >1.000000</td>\n",
       "                        <td id=\"T_f1ca9_row3_col4\" class=\"data row3 col4\" >-0.796179</td>\n",
       "                        <td id=\"T_f1ca9_row3_col5\" class=\"data row3 col5\" >-0.048924</td>\n",
       "                        <td id=\"T_f1ca9_row3_col6\" class=\"data row3 col6\" >-0.004918</td>\n",
       "                        <td id=\"T_f1ca9_row3_col7\" class=\"data row3 col7\" >-0.007366</td>\n",
       "                        <td id=\"T_f1ca9_row3_col8\" class=\"data row3 col8\" >0.018192</td>\n",
       "                        <td id=\"T_f1ca9_row3_col9\" class=\"data row3 col9\" >0.000103</td>\n",
       "            </tr>\n",
       "            <tr>\n",
       "                        <th id=\"T_f1ca9_level0_row4\" class=\"row_heading level0 row4\" >f5</th>\n",
       "                        <td id=\"T_f1ca9_row4_col0\" class=\"data row4 col0\" >0.068611</td>\n",
       "                        <td id=\"T_f1ca9_row4_col1\" class=\"data row4 col1\" >0.052441</td>\n",
       "                        <td id=\"T_f1ca9_row4_col2\" class=\"data row4 col2\" >-0.392983</td>\n",
       "                        <td id=\"T_f1ca9_row4_col3\" class=\"data row4 col3\" >-0.796179</td>\n",
       "                        <td id=\"T_f1ca9_row4_col4\" class=\"data row4 col4\" >1.000000</td>\n",
       "                        <td id=\"T_f1ca9_row4_col5\" class=\"data row4 col5\" >0.030613</td>\n",
       "                        <td id=\"T_f1ca9_row4_col6\" class=\"data row4 col6\" >-0.015641</td>\n",
       "                        <td id=\"T_f1ca9_row4_col7\" class=\"data row4 col7\" >0.014615</td>\n",
       "                        <td id=\"T_f1ca9_row4_col8\" class=\"data row4 col8\" >0.015438</td>\n",
       "                        <td id=\"T_f1ca9_row4_col9\" class=\"data row4 col9\" >0.004837</td>\n",
       "            </tr>\n",
       "            <tr>\n",
       "                        <th id=\"T_f1ca9_level0_row5\" class=\"row_heading level0 row5\" >f6</th>\n",
       "                        <td id=\"T_f1ca9_row5_col0\" class=\"data row5 col0\" >0.018150</td>\n",
       "                        <td id=\"T_f1ca9_row5_col1\" class=\"data row5 col1\" >0.031699</td>\n",
       "                        <td id=\"T_f1ca9_row5_col2\" class=\"data row5 col2\" >-0.027446</td>\n",
       "                        <td id=\"T_f1ca9_row5_col3\" class=\"data row5 col3\" >-0.048924</td>\n",
       "                        <td id=\"T_f1ca9_row5_col4\" class=\"data row5 col4\" >0.030613</td>\n",
       "                        <td id=\"T_f1ca9_row5_col5\" class=\"data row5 col5\" >1.000000</td>\n",
       "                        <td id=\"T_f1ca9_row5_col6\" class=\"data row5 col6\" >0.020155</td>\n",
       "                        <td id=\"T_f1ca9_row5_col7\" class=\"data row5 col7\" >0.042374</td>\n",
       "                        <td id=\"T_f1ca9_row5_col8\" class=\"data row5 col8\" >-0.026892</td>\n",
       "                        <td id=\"T_f1ca9_row5_col9\" class=\"data row5 col9\" >0.049871</td>\n",
       "            </tr>\n",
       "            <tr>\n",
       "                        <th id=\"T_f1ca9_level0_row6\" class=\"row_heading level0 row6\" >f7</th>\n",
       "                        <td id=\"T_f1ca9_row6_col0\" class=\"data row6 col0\" >-0.110752</td>\n",
       "                        <td id=\"T_f1ca9_row6_col1\" class=\"data row6 col1\" >-0.073705</td>\n",
       "                        <td id=\"T_f1ca9_row6_col2\" class=\"data row6 col2\" >-0.037770</td>\n",
       "                        <td id=\"T_f1ca9_row6_col3\" class=\"data row6 col3\" >-0.004918</td>\n",
       "                        <td id=\"T_f1ca9_row6_col4\" class=\"data row6 col4\" >-0.015641</td>\n",
       "                        <td id=\"T_f1ca9_row6_col5\" class=\"data row6 col5\" >0.020155</td>\n",
       "                        <td id=\"T_f1ca9_row6_col6\" class=\"data row6 col6\" >1.000000</td>\n",
       "                        <td id=\"T_f1ca9_row6_col7\" class=\"data row6 col7\" >-0.009034</td>\n",
       "                        <td id=\"T_f1ca9_row6_col8\" class=\"data row6 col8\" >-0.000532</td>\n",
       "                        <td id=\"T_f1ca9_row6_col9\" class=\"data row6 col9\" >0.054066</td>\n",
       "            </tr>\n",
       "            <tr>\n",
       "                        <th id=\"T_f1ca9_level0_row7\" class=\"row_heading level0 row7\" >f8</th>\n",
       "                        <td id=\"T_f1ca9_row7_col0\" class=\"data row7 col0\" >0.030587</td>\n",
       "                        <td id=\"T_f1ca9_row7_col1\" class=\"data row7 col1\" >0.029227</td>\n",
       "                        <td id=\"T_f1ca9_row7_col2\" class=\"data row7 col2\" >0.002404</td>\n",
       "                        <td id=\"T_f1ca9_row7_col3\" class=\"data row7 col3\" >-0.007366</td>\n",
       "                        <td id=\"T_f1ca9_row7_col4\" class=\"data row7 col4\" >0.014615</td>\n",
       "                        <td id=\"T_f1ca9_row7_col5\" class=\"data row7 col5\" >0.042374</td>\n",
       "                        <td id=\"T_f1ca9_row7_col6\" class=\"data row7 col6\" >-0.009034</td>\n",
       "                        <td id=\"T_f1ca9_row7_col7\" class=\"data row7 col7\" >1.000000</td>\n",
       "                        <td id=\"T_f1ca9_row7_col8\" class=\"data row7 col8\" >-0.054280</td>\n",
       "                        <td id=\"T_f1ca9_row7_col9\" class=\"data row7 col9\" >0.028782</td>\n",
       "            </tr>\n",
       "            <tr>\n",
       "                        <th id=\"T_f1ca9_level0_row8\" class=\"row_heading level0 row8\" >f9</th>\n",
       "                        <td id=\"T_f1ca9_row8_col0\" class=\"data row8 col0\" >-0.027945</td>\n",
       "                        <td id=\"T_f1ca9_row8_col1\" class=\"data row8 col1\" >-0.007349</td>\n",
       "                        <td id=\"T_f1ca9_row8_col2\" class=\"data row8 col2\" >0.010906</td>\n",
       "                        <td id=\"T_f1ca9_row8_col3\" class=\"data row8 col3\" >0.018192</td>\n",
       "                        <td id=\"T_f1ca9_row8_col4\" class=\"data row8 col4\" >0.015438</td>\n",
       "                        <td id=\"T_f1ca9_row8_col5\" class=\"data row8 col5\" >-0.026892</td>\n",
       "                        <td id=\"T_f1ca9_row8_col6\" class=\"data row8 col6\" >-0.000532</td>\n",
       "                        <td id=\"T_f1ca9_row8_col7\" class=\"data row8 col7\" >-0.054280</td>\n",
       "                        <td id=\"T_f1ca9_row8_col8\" class=\"data row8 col8\" >1.000000</td>\n",
       "                        <td id=\"T_f1ca9_row8_col9\" class=\"data row8 col9\" >0.018597</td>\n",
       "            </tr>\n",
       "            <tr>\n",
       "                        <th id=\"T_f1ca9_level0_row9\" class=\"row_heading level0 row9\" >f10</th>\n",
       "                        <td id=\"T_f1ca9_row9_col0\" class=\"data row9 col0\" >0.065000</td>\n",
       "                        <td id=\"T_f1ca9_row9_col1\" class=\"data row9 col1\" >0.021673</td>\n",
       "                        <td id=\"T_f1ca9_row9_col2\" class=\"data row9 col2\" >0.016226</td>\n",
       "                        <td id=\"T_f1ca9_row9_col3\" class=\"data row9 col3\" >0.000103</td>\n",
       "                        <td id=\"T_f1ca9_row9_col4\" class=\"data row9 col4\" >0.004837</td>\n",
       "                        <td id=\"T_f1ca9_row9_col5\" class=\"data row9 col5\" >0.049871</td>\n",
       "                        <td id=\"T_f1ca9_row9_col6\" class=\"data row9 col6\" >0.054066</td>\n",
       "                        <td id=\"T_f1ca9_row9_col7\" class=\"data row9 col7\" >0.028782</td>\n",
       "                        <td id=\"T_f1ca9_row9_col8\" class=\"data row9 col8\" >0.018597</td>\n",
       "                        <td id=\"T_f1ca9_row9_col9\" class=\"data row9 col9\" >1.000000</td>\n",
       "            </tr>\n",
       "    </tbody></table>"
      ],
      "text/plain": [
       "<pandas.io.formats.style.Styler at 0x7f9620898d90>"
      ]
     },
     "metadata": {},
     "output_type": "display_data"
    }
   ],
   "source": [
    "display(master_data_df.corr().style.applymap(color_thresh))"
   ]
  },
  {
   "cell_type": "markdown",
   "id": "c57ba98c-002d-4e7f-8e94-ad9162bb487f",
   "metadata": {
    "tags": []
   },
   "source": [
    "## Target variable creation"
   ]
  },
  {
   "cell_type": "markdown",
   "id": "c7b37012-6713-474c-845a-19d99beb1353",
   "metadata": {},
   "source": [
    "Now we just need to create the polynomial and make our target variable."
   ]
  },
  {
   "cell_type": "markdown",
   "id": "5413ecd4-7a1c-4036-8911-070ff00d0334",
   "metadata": {},
   "source": [
    "For now we shall create a linear target variable"
   ]
  },
  {
   "cell_type": "code",
   "execution_count": 133,
   "id": "7de3902c-403e-4f1e-a411-8a813a39ab7e",
   "metadata": {},
   "outputs": [
    {
     "data": {
      "text/plain": [
       "array([0.8548219 , 9.45614306, 4.93156789, 2.74044746, 4.57208473,\n",
       "       0.24207174, 7.16864783, 5.66669495, 8.47362646, 6.49470771,\n",
       "       4.22684349])"
      ]
     },
     "execution_count": 133,
     "metadata": {},
     "output_type": "execute_result"
    }
   ],
   "source": [
    "#create coefficents plus intercept\n",
    "coeffs = 10*np.random.random(11)\n",
    "coeffs"
   ]
  },
  {
   "cell_type": "code",
   "execution_count": 134,
   "id": "d029928f-1b2b-4677-b394-fe95e8649f59",
   "metadata": {},
   "outputs": [],
   "source": [
    "#combine them together to produce the target var and appends to master data frame\n",
    "master_data_df['y'] = master_data_df.apply(lambda x: sum(x*coeffs[:-1])+coeffs[-1]+np.random.normal(0,5),axis=1)"
   ]
  },
  {
   "cell_type": "code",
   "execution_count": 135,
   "id": "a780bdba-57d8-489f-8f23-eafd868fd78f",
   "metadata": {},
   "outputs": [
    {
     "data": {
      "text/html": [
       "<div>\n",
       "<style scoped>\n",
       "    .dataframe tbody tr th:only-of-type {\n",
       "        vertical-align: middle;\n",
       "    }\n",
       "\n",
       "    .dataframe tbody tr th {\n",
       "        vertical-align: top;\n",
       "    }\n",
       "\n",
       "    .dataframe thead th {\n",
       "        text-align: right;\n",
       "    }\n",
       "</style>\n",
       "<table border=\"1\" class=\"dataframe\">\n",
       "  <thead>\n",
       "    <tr style=\"text-align: right;\">\n",
       "      <th></th>\n",
       "      <th>f1</th>\n",
       "      <th>f2</th>\n",
       "      <th>f3</th>\n",
       "      <th>f4</th>\n",
       "      <th>f5</th>\n",
       "      <th>f6</th>\n",
       "      <th>f7</th>\n",
       "      <th>f8</th>\n",
       "      <th>f9</th>\n",
       "      <th>f10</th>\n",
       "      <th>y</th>\n",
       "    </tr>\n",
       "  </thead>\n",
       "  <tbody>\n",
       "    <tr>\n",
       "      <th>0</th>\n",
       "      <td>-1.571577</td>\n",
       "      <td>-1.470010</td>\n",
       "      <td>0.435267</td>\n",
       "      <td>1.418019</td>\n",
       "      <td>-0.861812</td>\n",
       "      <td>0.362211</td>\n",
       "      <td>1.288429</td>\n",
       "      <td>0.766177</td>\n",
       "      <td>-1.858609</td>\n",
       "      <td>-0.169907</td>\n",
       "      <td>-15.961233</td>\n",
       "    </tr>\n",
       "    <tr>\n",
       "      <th>1</th>\n",
       "      <td>0.589387</td>\n",
       "      <td>1.389671</td>\n",
       "      <td>1.093053</td>\n",
       "      <td>1.056387</td>\n",
       "      <td>-0.195147</td>\n",
       "      <td>-1.061001</td>\n",
       "      <td>-0.435579</td>\n",
       "      <td>-1.398377</td>\n",
       "      <td>-0.093679</td>\n",
       "      <td>0.291864</td>\n",
       "      <td>10.646720</td>\n",
       "    </tr>\n",
       "    <tr>\n",
       "      <th>2</th>\n",
       "      <td>1.007882</td>\n",
       "      <td>0.611113</td>\n",
       "      <td>1.266938</td>\n",
       "      <td>0.265561</td>\n",
       "      <td>0.245825</td>\n",
       "      <td>-1.430773</td>\n",
       "      <td>-0.276978</td>\n",
       "      <td>-0.797279</td>\n",
       "      <td>2.193400</td>\n",
       "      <td>1.410456</td>\n",
       "      <td>43.823134</td>\n",
       "    </tr>\n",
       "    <tr>\n",
       "      <th>3</th>\n",
       "      <td>0.035006</td>\n",
       "      <td>0.069504</td>\n",
       "      <td>1.432853</td>\n",
       "      <td>1.043860</td>\n",
       "      <td>-0.307817</td>\n",
       "      <td>1.669126</td>\n",
       "      <td>0.970242</td>\n",
       "      <td>-1.274798</td>\n",
       "      <td>0.424221</td>\n",
       "      <td>-1.138066</td>\n",
       "      <td>12.617782</td>\n",
       "    </tr>\n",
       "    <tr>\n",
       "      <th>4</th>\n",
       "      <td>-0.057693</td>\n",
       "      <td>-0.241715</td>\n",
       "      <td>0.932813</td>\n",
       "      <td>2.657547</td>\n",
       "      <td>-2.284334</td>\n",
       "      <td>-0.130933</td>\n",
       "      <td>-0.288229</td>\n",
       "      <td>-0.159546</td>\n",
       "      <td>0.761910</td>\n",
       "      <td>-1.169418</td>\n",
       "      <td>-7.745875</td>\n",
       "    </tr>\n",
       "  </tbody>\n",
       "</table>\n",
       "</div>"
      ],
      "text/plain": [
       "         f1        f2        f3        f4        f5        f6        f7  \\\n",
       "0 -1.571577 -1.470010  0.435267  1.418019 -0.861812  0.362211  1.288429   \n",
       "1  0.589387  1.389671  1.093053  1.056387 -0.195147 -1.061001 -0.435579   \n",
       "2  1.007882  0.611113  1.266938  0.265561  0.245825 -1.430773 -0.276978   \n",
       "3  0.035006  0.069504  1.432853  1.043860 -0.307817  1.669126  0.970242   \n",
       "4 -0.057693 -0.241715  0.932813  2.657547 -2.284334 -0.130933 -0.288229   \n",
       "\n",
       "         f8        f9       f10          y  \n",
       "0  0.766177 -1.858609 -0.169907 -15.961233  \n",
       "1 -1.398377 -0.093679  0.291864  10.646720  \n",
       "2 -0.797279  2.193400  1.410456  43.823134  \n",
       "3 -1.274798  0.424221 -1.138066  12.617782  \n",
       "4 -0.159546  0.761910 -1.169418  -7.745875  "
      ]
     },
     "execution_count": 135,
     "metadata": {},
     "output_type": "execute_result"
    }
   ],
   "source": [
    "master_data_df.head()"
   ]
  },
  {
   "cell_type": "markdown",
   "id": "a9617682-a81e-4650-a525-ab2bb0321c50",
   "metadata": {},
   "source": [
    "## Data export "
   ]
  },
  {
   "cell_type": "markdown",
   "id": "767bdb89-d01a-42c3-b56c-3007ca11ca2e",
   "metadata": {},
   "source": [
    "We now export our:\n",
    " - created data set to be used for model creation\n",
    " - our paramters that we have used for future point of reference"
   ]
  },
  {
   "cell_type": "code",
   "execution_count": 136,
   "id": "985e9987-35b4-4e0f-9da3-a0b58e35ca2b",
   "metadata": {},
   "outputs": [],
   "source": [
    "#data export\n",
    "master_data_df.to_csv('synth1.csv')"
   ]
  },
  {
   "cell_type": "code",
   "execution_count": 145,
   "id": "9d1c7708-a261-49d4-961a-44060016330e",
   "metadata": {},
   "outputs": [],
   "source": [
    "#parameter export\n",
    "params = {\n",
    "    'features': num_of_features, \n",
    "    'samples': num_of_samples,\n",
    "    'split': train_test_split,\n",
    "    'corr_features': num_of_correlated_features,\n",
    "    'mean':mean,\n",
    "    'cov': cov,\n",
    "    'mean2': mean2,\n",
    "    'cov2': cov2,\n",
    "    'coeffs': coeffs,\n",
    "}\n",
    "\n",
    "with open(\"params.pkl\", \"wb\") as output_file:\n",
    "    pickle.dump(params, output_file)"
   ]
  },
  {
   "cell_type": "code",
   "execution_count": null,
   "id": "0e3cc062-94dc-447b-b9bf-be122817e3b1",
   "metadata": {},
   "outputs": [],
   "source": []
  }
 ],
 "metadata": {
  "kernelspec": {
   "display_name": "Python 3",
   "language": "python",
   "name": "python3"
  },
  "language_info": {
   "codemirror_mode": {
    "name": "ipython",
    "version": 3
   },
   "file_extension": ".py",
   "mimetype": "text/x-python",
   "name": "python",
   "nbconvert_exporter": "python",
   "pygments_lexer": "ipython3",
   "version": "3.8.11"
  }
 },
 "nbformat": 4,
 "nbformat_minor": 5
}
