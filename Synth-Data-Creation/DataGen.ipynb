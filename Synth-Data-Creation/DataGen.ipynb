{
 "cells": [
  {
   "cell_type": "markdown",
   "id": "12aa3406-9ccf-4310-bc15-3d5697e683b0",
   "metadata": {},
   "source": [
    "# Synthetic Data Creation"
   ]
  },
  {
   "cell_type": "markdown",
   "id": "c78ca294-9c60-405b-8b6b-bcd04653db56",
   "metadata": {},
   "source": [
    "This note book shall be where we create the synthetic-dataset to be use for out testing."
   ]
  },
  {
   "cell_type": "markdown",
   "id": "0e29c65b-53eb-40bd-b04d-d3ff57683a0b",
   "metadata": {},
   "source": [
    "Summary of what we wish to achieve:\n",
    "\n",
    "We are aiming to create a dataset from which we can build a linear regression/simple polynomial regression model without regularisation. The data set needs to have a sufficent number of samples so we can form a training set and a test set. Because of the whole point of this expirment we shall also mandate that some of the features are themselves correlated."
   ]
  },
  {
   "cell_type": "code",
   "execution_count": 1,
   "id": "3d59f93b-6513-4c47-9abc-0ae404718a4c",
   "metadata": {},
   "outputs": [],
   "source": [
    "#Set master parameters.\n",
    "\n",
    "num_of_features = 10\n",
    "num_of_samples = 400\n",
    "train_test_split = 0.75\n",
    "num_of_correlated_features = 5"
   ]
  },
  {
   "cell_type": "code",
   "execution_count": 5,
   "id": "e3665c91-f162-4394-a4d8-a338297a7088",
   "metadata": {},
   "outputs": [],
   "source": [
    "#Library imports\n",
    "import numpy as np\n",
    "import pandas as pd"
   ]
  },
  {
   "cell_type": "code",
   "execution_count": 100,
   "id": "74ae1f76-74a9-4103-bd2e-8090fd1cf32d",
   "metadata": {},
   "outputs": [],
   "source": [
    "#colouring function \n",
    "def color_thresh(val,thres=0.5):\n",
    "    if abs(val)>=thres:\n",
    "        if val<0:\n",
    "            return 'background-color: red'\n",
    "        else:\n",
    "            return 'background-color: green'\n",
    "    else:\n",
    "        return ''"
   ]
  },
  {
   "cell_type": "markdown",
   "id": "4964b19b-cd9b-4cdd-9de8-f8ae94043317",
   "metadata": {},
   "source": [
    "The above function will be useful later on when we need to quick inspect the relations/correlations of our generated data set"
   ]
  },
  {
   "cell_type": "code",
   "execution_count": 20,
   "id": "5f96a6fc-e493-45b1-88c2-807e9f2945f6",
   "metadata": {},
   "outputs": [],
   "source": [
    "mean = [0, 0]\n",
    "cov = [[1, 0.8], [0.8, 1]]  # diagonal covariance"
   ]
  },
  {
   "cell_type": "code",
   "execution_count": 42,
   "id": "3e42accc-b834-4daf-ae89-f8d26470b5dc",
   "metadata": {},
   "outputs": [],
   "source": [
    "data_df = pd.DataFrame(np.random.multivariate_normal(mean,cov,num_of_samples),columns=['f1','f2'])"
   ]
  },
  {
   "cell_type": "code",
   "execution_count": 44,
   "id": "35415d81-274e-4e3c-9bfd-52b2dab3bb6a",
   "metadata": {},
   "outputs": [
    {
     "data": {
      "text/html": [
       "<div>\n",
       "<style scoped>\n",
       "    .dataframe tbody tr th:only-of-type {\n",
       "        vertical-align: middle;\n",
       "    }\n",
       "\n",
       "    .dataframe tbody tr th {\n",
       "        vertical-align: top;\n",
       "    }\n",
       "\n",
       "    .dataframe thead th {\n",
       "        text-align: right;\n",
       "    }\n",
       "</style>\n",
       "<table border=\"1\" class=\"dataframe\">\n",
       "  <thead>\n",
       "    <tr style=\"text-align: right;\">\n",
       "      <th></th>\n",
       "      <th>f1</th>\n",
       "      <th>f2</th>\n",
       "    </tr>\n",
       "  </thead>\n",
       "  <tbody>\n",
       "    <tr>\n",
       "      <th>f1</th>\n",
       "      <td>1.00000</td>\n",
       "      <td>0.82794</td>\n",
       "    </tr>\n",
       "    <tr>\n",
       "      <th>f2</th>\n",
       "      <td>0.82794</td>\n",
       "      <td>1.00000</td>\n",
       "    </tr>\n",
       "  </tbody>\n",
       "</table>\n",
       "</div>"
      ],
      "text/plain": [
       "         f1       f2\n",
       "f1  1.00000  0.82794\n",
       "f2  0.82794  1.00000"
      ]
     },
     "execution_count": 44,
     "metadata": {},
     "output_type": "execute_result"
    }
   ],
   "source": [
    "data_df.corr()"
   ]
  },
  {
   "cell_type": "code",
   "execution_count": 65,
   "id": "6db69152-4b41-42e8-a660-378c7dc5c556",
   "metadata": {},
   "outputs": [],
   "source": [
    "mean2 = [0, 0, 0]\n",
    "cov2 = [[1, 0.9, 0], [0.9, 1, -0.9], [0,-0.9,1]]  # diagonal covariance"
   ]
  },
  {
   "cell_type": "markdown",
   "id": "ca913191-5c26-497d-91e7-f5f1676873ed",
   "metadata": {},
   "source": [
    "note that the covariance matrix needs to be a positive semdefinte matrix, which our above one is not. However we can just use the matrix $A*A^{T}$"
   ]
  },
  {
   "cell_type": "code",
   "execution_count": 101,
   "id": "aaae0021-e1a8-42e0-b640-f0f371e2f5c7",
   "metadata": {},
   "outputs": [
    {
     "data": {
      "text/plain": [
       "array([[ 1.81,  1.8 , -0.81],\n",
       "       [ 1.8 ,  2.62, -1.8 ],\n",
       "       [-0.81, -1.8 ,  1.81]])"
      ]
     },
     "execution_count": 101,
     "metadata": {},
     "output_type": "execute_result"
    }
   ],
   "source": [
    "np.matmul(cov2,cov2)"
   ]
  },
  {
   "cell_type": "code",
   "execution_count": 73,
   "id": "878573d7-27bf-4274-837e-61aaab11818a",
   "metadata": {},
   "outputs": [],
   "source": [
    "data_df2 = pd.DataFrame(np.random.multivariate_normal(mean2,np.matmul(cov2,cov2),num_of_samples),columns=['f3','f4','f5'])"
   ]
  },
  {
   "cell_type": "code",
   "execution_count": 74,
   "id": "4bcf294f-787f-465c-abd1-c6bca70e68ad",
   "metadata": {},
   "outputs": [
    {
     "data": {
      "text/html": [
       "<div>\n",
       "<style scoped>\n",
       "    .dataframe tbody tr th:only-of-type {\n",
       "        vertical-align: middle;\n",
       "    }\n",
       "\n",
       "    .dataframe tbody tr th {\n",
       "        vertical-align: top;\n",
       "    }\n",
       "\n",
       "    .dataframe thead th {\n",
       "        text-align: right;\n",
       "    }\n",
       "</style>\n",
       "<table border=\"1\" class=\"dataframe\">\n",
       "  <thead>\n",
       "    <tr style=\"text-align: right;\">\n",
       "      <th></th>\n",
       "      <th>f3</th>\n",
       "      <th>f4</th>\n",
       "      <th>f5</th>\n",
       "    </tr>\n",
       "  </thead>\n",
       "  <tbody>\n",
       "    <tr>\n",
       "      <th>f3</th>\n",
       "      <td>1.000000</td>\n",
       "      <td>0.761212</td>\n",
       "      <td>-0.296504</td>\n",
       "    </tr>\n",
       "    <tr>\n",
       "      <th>f4</th>\n",
       "      <td>0.761212</td>\n",
       "      <td>1.000000</td>\n",
       "      <td>-0.781817</td>\n",
       "    </tr>\n",
       "    <tr>\n",
       "      <th>f5</th>\n",
       "      <td>-0.296504</td>\n",
       "      <td>-0.781817</td>\n",
       "      <td>1.000000</td>\n",
       "    </tr>\n",
       "  </tbody>\n",
       "</table>\n",
       "</div>"
      ],
      "text/plain": [
       "          f3        f4        f5\n",
       "f3  1.000000  0.761212 -0.296504\n",
       "f4  0.761212  1.000000 -0.781817\n",
       "f5 -0.296504 -0.781817  1.000000"
      ]
     },
     "execution_count": 74,
     "metadata": {},
     "output_type": "execute_result"
    }
   ],
   "source": [
    "data_df2.corr()"
   ]
  },
  {
   "cell_type": "code",
   "execution_count": 91,
   "id": "da59012e-25b0-4704-b1a1-ffbb76a3957f",
   "metadata": {},
   "outputs": [],
   "source": [
    "master_data_df = pd.concat([data_df,data_df2],axis=1)"
   ]
  },
  {
   "cell_type": "code",
   "execution_count": 94,
   "id": "8185665a-52c1-4303-bb9d-bf9a9da0586f",
   "metadata": {},
   "outputs": [],
   "source": [
    "for i in range(num_of_correlated_features+1,num_of_features+1):\n",
    "    master_data_df['f'+str(i)] = np.random.normal(size=(num_of_samples,1))"
   ]
  },
  {
   "cell_type": "code",
   "execution_count": 99,
   "id": "b36884f1-0ae9-4cb0-a2bc-07014419d475",
   "metadata": {},
   "outputs": [
    {
     "data": {
      "text/html": [
       "<style  type=\"text/css\" >\n",
       "#T_3d828_row0_col0,#T_3d828_row0_col1,#T_3d828_row1_col0,#T_3d828_row1_col1,#T_3d828_row2_col2,#T_3d828_row2_col3,#T_3d828_row3_col2,#T_3d828_row3_col3,#T_3d828_row4_col4,#T_3d828_row5_col5,#T_3d828_row6_col6,#T_3d828_row7_col7,#T_3d828_row8_col8,#T_3d828_row9_col9{\n",
       "            background-color:  green;\n",
       "        }#T_3d828_row3_col4,#T_3d828_row4_col3{\n",
       "            background-color:  red;\n",
       "        }</style><table id=\"T_3d828_\" ><thead>    <tr>        <th class=\"blank level0\" ></th>        <th class=\"col_heading level0 col0\" >f1</th>        <th class=\"col_heading level0 col1\" >f2</th>        <th class=\"col_heading level0 col2\" >f3</th>        <th class=\"col_heading level0 col3\" >f4</th>        <th class=\"col_heading level0 col4\" >f5</th>        <th class=\"col_heading level0 col5\" >f6</th>        <th class=\"col_heading level0 col6\" >f7</th>        <th class=\"col_heading level0 col7\" >f8</th>        <th class=\"col_heading level0 col8\" >f9</th>        <th class=\"col_heading level0 col9\" >f10</th>    </tr></thead><tbody>\n",
       "                <tr>\n",
       "                        <th id=\"T_3d828_level0_row0\" class=\"row_heading level0 row0\" >f1</th>\n",
       "                        <td id=\"T_3d828_row0_col0\" class=\"data row0 col0\" >1.000000</td>\n",
       "                        <td id=\"T_3d828_row0_col1\" class=\"data row0 col1\" >0.827940</td>\n",
       "                        <td id=\"T_3d828_row0_col2\" class=\"data row0 col2\" >-0.069792</td>\n",
       "                        <td id=\"T_3d828_row0_col3\" class=\"data row0 col3\" >0.073970</td>\n",
       "                        <td id=\"T_3d828_row0_col4\" class=\"data row0 col4\" >-0.083145</td>\n",
       "                        <td id=\"T_3d828_row0_col5\" class=\"data row0 col5\" >0.097433</td>\n",
       "                        <td id=\"T_3d828_row0_col6\" class=\"data row0 col6\" >0.093638</td>\n",
       "                        <td id=\"T_3d828_row0_col7\" class=\"data row0 col7\" >-0.054433</td>\n",
       "                        <td id=\"T_3d828_row0_col8\" class=\"data row0 col8\" >0.044291</td>\n",
       "                        <td id=\"T_3d828_row0_col9\" class=\"data row0 col9\" >-0.056656</td>\n",
       "            </tr>\n",
       "            <tr>\n",
       "                        <th id=\"T_3d828_level0_row1\" class=\"row_heading level0 row1\" >f2</th>\n",
       "                        <td id=\"T_3d828_row1_col0\" class=\"data row1 col0\" >0.827940</td>\n",
       "                        <td id=\"T_3d828_row1_col1\" class=\"data row1 col1\" >1.000000</td>\n",
       "                        <td id=\"T_3d828_row1_col2\" class=\"data row1 col2\" >-0.085871</td>\n",
       "                        <td id=\"T_3d828_row1_col3\" class=\"data row1 col3\" >0.057217</td>\n",
       "                        <td id=\"T_3d828_row1_col4\" class=\"data row1 col4\" >-0.084251</td>\n",
       "                        <td id=\"T_3d828_row1_col5\" class=\"data row1 col5\" >0.093114</td>\n",
       "                        <td id=\"T_3d828_row1_col6\" class=\"data row1 col6\" >0.103052</td>\n",
       "                        <td id=\"T_3d828_row1_col7\" class=\"data row1 col7\" >0.028197</td>\n",
       "                        <td id=\"T_3d828_row1_col8\" class=\"data row1 col8\" >0.039160</td>\n",
       "                        <td id=\"T_3d828_row1_col9\" class=\"data row1 col9\" >0.025193</td>\n",
       "            </tr>\n",
       "            <tr>\n",
       "                        <th id=\"T_3d828_level0_row2\" class=\"row_heading level0 row2\" >f3</th>\n",
       "                        <td id=\"T_3d828_row2_col0\" class=\"data row2 col0\" >-0.069792</td>\n",
       "                        <td id=\"T_3d828_row2_col1\" class=\"data row2 col1\" >-0.085871</td>\n",
       "                        <td id=\"T_3d828_row2_col2\" class=\"data row2 col2\" >1.000000</td>\n",
       "                        <td id=\"T_3d828_row2_col3\" class=\"data row2 col3\" >0.761212</td>\n",
       "                        <td id=\"T_3d828_row2_col4\" class=\"data row2 col4\" >-0.296504</td>\n",
       "                        <td id=\"T_3d828_row2_col5\" class=\"data row2 col5\" >-0.017036</td>\n",
       "                        <td id=\"T_3d828_row2_col6\" class=\"data row2 col6\" >-0.150161</td>\n",
       "                        <td id=\"T_3d828_row2_col7\" class=\"data row2 col7\" >0.059800</td>\n",
       "                        <td id=\"T_3d828_row2_col8\" class=\"data row2 col8\" >-0.086533</td>\n",
       "                        <td id=\"T_3d828_row2_col9\" class=\"data row2 col9\" >0.103383</td>\n",
       "            </tr>\n",
       "            <tr>\n",
       "                        <th id=\"T_3d828_level0_row3\" class=\"row_heading level0 row3\" >f4</th>\n",
       "                        <td id=\"T_3d828_row3_col0\" class=\"data row3 col0\" >0.073970</td>\n",
       "                        <td id=\"T_3d828_row3_col1\" class=\"data row3 col1\" >0.057217</td>\n",
       "                        <td id=\"T_3d828_row3_col2\" class=\"data row3 col2\" >0.761212</td>\n",
       "                        <td id=\"T_3d828_row3_col3\" class=\"data row3 col3\" >1.000000</td>\n",
       "                        <td id=\"T_3d828_row3_col4\" class=\"data row3 col4\" >-0.781817</td>\n",
       "                        <td id=\"T_3d828_row3_col5\" class=\"data row3 col5\" >0.067081</td>\n",
       "                        <td id=\"T_3d828_row3_col6\" class=\"data row3 col6\" >-0.064381</td>\n",
       "                        <td id=\"T_3d828_row3_col7\" class=\"data row3 col7\" >0.178381</td>\n",
       "                        <td id=\"T_3d828_row3_col8\" class=\"data row3 col8\" >-0.076477</td>\n",
       "                        <td id=\"T_3d828_row3_col9\" class=\"data row3 col9\" >0.105529</td>\n",
       "            </tr>\n",
       "            <tr>\n",
       "                        <th id=\"T_3d828_level0_row4\" class=\"row_heading level0 row4\" >f5</th>\n",
       "                        <td id=\"T_3d828_row4_col0\" class=\"data row4 col0\" >-0.083145</td>\n",
       "                        <td id=\"T_3d828_row4_col1\" class=\"data row4 col1\" >-0.084251</td>\n",
       "                        <td id=\"T_3d828_row4_col2\" class=\"data row4 col2\" >-0.296504</td>\n",
       "                        <td id=\"T_3d828_row4_col3\" class=\"data row4 col3\" >-0.781817</td>\n",
       "                        <td id=\"T_3d828_row4_col4\" class=\"data row4 col4\" >1.000000</td>\n",
       "                        <td id=\"T_3d828_row4_col5\" class=\"data row4 col5\" >-0.162931</td>\n",
       "                        <td id=\"T_3d828_row4_col6\" class=\"data row4 col6\" >-0.077269</td>\n",
       "                        <td id=\"T_3d828_row4_col7\" class=\"data row4 col7\" >-0.232824</td>\n",
       "                        <td id=\"T_3d828_row4_col8\" class=\"data row4 col8\" >0.097265</td>\n",
       "                        <td id=\"T_3d828_row4_col9\" class=\"data row4 col9\" >-0.135821</td>\n",
       "            </tr>\n",
       "            <tr>\n",
       "                        <th id=\"T_3d828_level0_row5\" class=\"row_heading level0 row5\" >f6</th>\n",
       "                        <td id=\"T_3d828_row5_col0\" class=\"data row5 col0\" >0.097433</td>\n",
       "                        <td id=\"T_3d828_row5_col1\" class=\"data row5 col1\" >0.093114</td>\n",
       "                        <td id=\"T_3d828_row5_col2\" class=\"data row5 col2\" >-0.017036</td>\n",
       "                        <td id=\"T_3d828_row5_col3\" class=\"data row5 col3\" >0.067081</td>\n",
       "                        <td id=\"T_3d828_row5_col4\" class=\"data row5 col4\" >-0.162931</td>\n",
       "                        <td id=\"T_3d828_row5_col5\" class=\"data row5 col5\" >1.000000</td>\n",
       "                        <td id=\"T_3d828_row5_col6\" class=\"data row5 col6\" >0.089055</td>\n",
       "                        <td id=\"T_3d828_row5_col7\" class=\"data row5 col7\" >0.127965</td>\n",
       "                        <td id=\"T_3d828_row5_col8\" class=\"data row5 col8\" >-0.042918</td>\n",
       "                        <td id=\"T_3d828_row5_col9\" class=\"data row5 col9\" >0.088007</td>\n",
       "            </tr>\n",
       "            <tr>\n",
       "                        <th id=\"T_3d828_level0_row6\" class=\"row_heading level0 row6\" >f7</th>\n",
       "                        <td id=\"T_3d828_row6_col0\" class=\"data row6 col0\" >0.093638</td>\n",
       "                        <td id=\"T_3d828_row6_col1\" class=\"data row6 col1\" >0.103052</td>\n",
       "                        <td id=\"T_3d828_row6_col2\" class=\"data row6 col2\" >-0.150161</td>\n",
       "                        <td id=\"T_3d828_row6_col3\" class=\"data row6 col3\" >-0.064381</td>\n",
       "                        <td id=\"T_3d828_row6_col4\" class=\"data row6 col4\" >-0.077269</td>\n",
       "                        <td id=\"T_3d828_row6_col5\" class=\"data row6 col5\" >0.089055</td>\n",
       "                        <td id=\"T_3d828_row6_col6\" class=\"data row6 col6\" >1.000000</td>\n",
       "                        <td id=\"T_3d828_row6_col7\" class=\"data row6 col7\" >0.001130</td>\n",
       "                        <td id=\"T_3d828_row6_col8\" class=\"data row6 col8\" >-0.040673</td>\n",
       "                        <td id=\"T_3d828_row6_col9\" class=\"data row6 col9\" >0.081320</td>\n",
       "            </tr>\n",
       "            <tr>\n",
       "                        <th id=\"T_3d828_level0_row7\" class=\"row_heading level0 row7\" >f8</th>\n",
       "                        <td id=\"T_3d828_row7_col0\" class=\"data row7 col0\" >-0.054433</td>\n",
       "                        <td id=\"T_3d828_row7_col1\" class=\"data row7 col1\" >0.028197</td>\n",
       "                        <td id=\"T_3d828_row7_col2\" class=\"data row7 col2\" >0.059800</td>\n",
       "                        <td id=\"T_3d828_row7_col3\" class=\"data row7 col3\" >0.178381</td>\n",
       "                        <td id=\"T_3d828_row7_col4\" class=\"data row7 col4\" >-0.232824</td>\n",
       "                        <td id=\"T_3d828_row7_col5\" class=\"data row7 col5\" >0.127965</td>\n",
       "                        <td id=\"T_3d828_row7_col6\" class=\"data row7 col6\" >0.001130</td>\n",
       "                        <td id=\"T_3d828_row7_col7\" class=\"data row7 col7\" >1.000000</td>\n",
       "                        <td id=\"T_3d828_row7_col8\" class=\"data row7 col8\" >-0.045765</td>\n",
       "                        <td id=\"T_3d828_row7_col9\" class=\"data row7 col9\" >0.018605</td>\n",
       "            </tr>\n",
       "            <tr>\n",
       "                        <th id=\"T_3d828_level0_row8\" class=\"row_heading level0 row8\" >f9</th>\n",
       "                        <td id=\"T_3d828_row8_col0\" class=\"data row8 col0\" >0.044291</td>\n",
       "                        <td id=\"T_3d828_row8_col1\" class=\"data row8 col1\" >0.039160</td>\n",
       "                        <td id=\"T_3d828_row8_col2\" class=\"data row8 col2\" >-0.086533</td>\n",
       "                        <td id=\"T_3d828_row8_col3\" class=\"data row8 col3\" >-0.076477</td>\n",
       "                        <td id=\"T_3d828_row8_col4\" class=\"data row8 col4\" >0.097265</td>\n",
       "                        <td id=\"T_3d828_row8_col5\" class=\"data row8 col5\" >-0.042918</td>\n",
       "                        <td id=\"T_3d828_row8_col6\" class=\"data row8 col6\" >-0.040673</td>\n",
       "                        <td id=\"T_3d828_row8_col7\" class=\"data row8 col7\" >-0.045765</td>\n",
       "                        <td id=\"T_3d828_row8_col8\" class=\"data row8 col8\" >1.000000</td>\n",
       "                        <td id=\"T_3d828_row8_col9\" class=\"data row8 col9\" >0.012362</td>\n",
       "            </tr>\n",
       "            <tr>\n",
       "                        <th id=\"T_3d828_level0_row9\" class=\"row_heading level0 row9\" >f10</th>\n",
       "                        <td id=\"T_3d828_row9_col0\" class=\"data row9 col0\" >-0.056656</td>\n",
       "                        <td id=\"T_3d828_row9_col1\" class=\"data row9 col1\" >0.025193</td>\n",
       "                        <td id=\"T_3d828_row9_col2\" class=\"data row9 col2\" >0.103383</td>\n",
       "                        <td id=\"T_3d828_row9_col3\" class=\"data row9 col3\" >0.105529</td>\n",
       "                        <td id=\"T_3d828_row9_col4\" class=\"data row9 col4\" >-0.135821</td>\n",
       "                        <td id=\"T_3d828_row9_col5\" class=\"data row9 col5\" >0.088007</td>\n",
       "                        <td id=\"T_3d828_row9_col6\" class=\"data row9 col6\" >0.081320</td>\n",
       "                        <td id=\"T_3d828_row9_col7\" class=\"data row9 col7\" >0.018605</td>\n",
       "                        <td id=\"T_3d828_row9_col8\" class=\"data row9 col8\" >0.012362</td>\n",
       "                        <td id=\"T_3d828_row9_col9\" class=\"data row9 col9\" >1.000000</td>\n",
       "            </tr>\n",
       "    </tbody></table>"
      ],
      "text/plain": [
       "<pandas.io.formats.style.Styler at 0x7f95f82f0cd0>"
      ]
     },
     "metadata": {},
     "output_type": "display_data"
    }
   ],
   "source": [
    "display(master_data_df.corr().style.applymap(color_thresh))"
   ]
  },
  {
   "cell_type": "markdown",
   "id": "c7b37012-6713-474c-845a-19d99beb1353",
   "metadata": {},
   "source": [
    "Now we just need to create the polynomial and make our target variable."
   ]
  },
  {
   "cell_type": "markdown",
   "id": "5413ecd4-7a1c-4036-8911-070ff00d0334",
   "metadata": {},
   "source": [
    "For now we shall create a linear target variable"
   ]
  },
  {
   "cell_type": "code",
   "execution_count": null,
   "id": "7de3902c-403e-4f1e-a411-8a813a39ab7e",
   "metadata": {},
   "outputs": [],
   "source": []
  }
 ],
 "metadata": {
  "kernelspec": {
   "display_name": "Python 3",
   "language": "python",
   "name": "python3"
  },
  "language_info": {
   "codemirror_mode": {
    "name": "ipython",
    "version": 3
   },
   "file_extension": ".py",
   "mimetype": "text/x-python",
   "name": "python",
   "nbconvert_exporter": "python",
   "pygments_lexer": "ipython3",
   "version": "3.8.8"
  }
 },
 "nbformat": 4,
 "nbformat_minor": 5
}
